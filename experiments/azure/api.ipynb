{
 "cells": [
  {
   "cell_type": "code",
   "id": "initial_id",
   "metadata": {
    "collapsed": true,
    "ExecuteTime": {
     "end_time": "2024-07-19T20:35:12.310602Z",
     "start_time": "2024-07-19T20:35:12.306800Z"
    }
   },
   "source": "",
   "execution_count": 2,
   "outputs": []
  },
  {
   "metadata": {
    "ExecuteTime": {
     "end_time": "2024-07-21T16:07:04.675644Z",
     "start_time": "2024-07-21T16:07:04.651700Z"
    }
   },
   "cell_type": "code",
   "source": [
    "from dotenv import load_dotenv\n",
    "import os\n",
    "\n",
    "load_dotenv()\n",
    "AZURE_OPENAI_API_KEY = os.getenv('AZURE_OPENAI_API_KEY')\n",
    "OPENAI_API_VERSION = os.getenv('OPENAI_API_VERSION')"
   ],
   "id": "8412ac340ce6e1ff",
   "execution_count": 1,
   "outputs": []
  },
  {
   "metadata": {
    "ExecuteTime": {
     "end_time": "2024-07-19T20:49:51.700931Z",
     "start_time": "2024-07-19T20:49:51.658326Z"
    }
   },
   "cell_type": "code",
   "source": [
    "from langchain_openai import AzureChatOpenAI\n",
    "\n",
    "llm = AzureChatOpenAI(openai_api_key=AZURE_OPENAI_API_KEY, deployment_name=\"gpt-4o\")"
   ],
   "id": "5f57e87fb2cbc3c3",
   "execution_count": 18,
   "outputs": []
  },
  {
   "metadata": {
    "ExecuteTime": {
     "end_time": "2024-07-19T20:54:14.079706Z",
     "start_time": "2024-07-19T20:54:13.490696Z"
    }
   },
   "cell_type": "code",
   "source": [
    "messages = [\n",
    "    (\n",
    "        \"system\",\n",
    "        \"You are a helpful assistant that translates English to French. Translate the user sentence.\",\n",
    "    ),\n",
    "    (\"human\", \"I love programming.\"),\n",
    "]\n",
    "ai_msg = llm.invoke(messages)\n",
    "ai_msg"
   ],
   "id": "87a65dd48ee495ab",
   "execution_count": 20,
   "outputs": []
  },
  {
   "metadata": {},
   "cell_type": "code",
   "execution_count": null,
   "source": "",
   "id": "4d05ba8368c4eeeb",
   "outputs": []
  },
  {
   "metadata": {
    "ExecuteTime": {
     "end_time": "2024-07-19T20:59:44.606746Z",
     "start_time": "2024-07-19T20:59:44.604006Z"
    }
   },
   "cell_type": "code",
   "source": [
    "#https://learn.microsoft.com/en-us/azure/ai-services/openai/how-to/json-mode?tabs=python\n",
    "# link says JSON mode is only available for gpt-4, not gpt-4o"
   ],
   "id": "fa33001af834909a",
   "execution_count": 23,
   "outputs": []
  },
  {
   "metadata": {
    "ExecuteTime": {
     "end_time": "2024-07-19T20:59:20.546613Z",
     "start_time": "2024-07-19T20:59:19.224889Z"
    }
   },
   "cell_type": "code",
   "source": [
    "import os\n",
    "from openai import AzureOpenAI\n",
    "\n",
    "client = AzureOpenAI(\n",
    "  azure_endpoint = os.getenv(\"AZURE_OPENAI_ENDPOINT\"), \n",
    "  api_key=os.getenv(\"AZURE_OPENAI_API_KEY\"),  \n",
    "  api_version=\"2024-03-01-preview\"\n",
    ")\n",
    "\n",
    "response = client.chat.completions.create(\n",
    "  model=\"gpt-4-0125-Preview\", # Model = should match the deployment name you chose for your 0125-Preview model deployment\n",
    "  response_format={ \"type\": \"json_object\" },\n",
    "  messages=[\n",
    "    {\"role\": \"system\", \"content\": \"You are a helpful assistant designed to output JSON.\"},\n",
    "    {\"role\": \"user\", \"content\": \"Who won the world series in 2020?\"}\n",
    "  ]\n",
    ")\n",
    "print(response.choices[0].message.content)"
   ],
   "id": "90e1660c31d2a149",
   "execution_count": 22,
   "outputs": []
  },
  {
   "metadata": {
    "ExecuteTime": {
     "end_time": "2024-07-21T16:07:28.394490Z",
     "start_time": "2024-07-21T16:07:26.365816Z"
    }
   },
   "cell_type": "code",
   "source": [
    "# Create an instance of Azure OpenAI\n",
    "# Replace the deployment name with your own\n",
    "from langchain_openai import AzureOpenAI\n",
    "\n",
    "\n",
    "llm = AzureOpenAI(\n",
    "    deployment_name=\"gpt-35-turbo-instruct-0914\",\n",
    ")\n",
    "llm.invoke(\"Tell me a joke\")\n",
    "\n"
   ],
   "id": "f3e068eeacfe4e8b",
   "execution_count": 3,
   "outputs": []
  },
  {
   "metadata": {
    "ExecuteTime": {
     "end_time": "2024-07-21T16:16:01.569427Z",
     "start_time": "2024-07-21T16:16:01.098291Z"
    }
   },
   "cell_type": "code",
   "source": [
    "from langchain_openai import AzureChatOpenAI\n",
    "\n",
    "llm = AzureChatOpenAI(openai_api_key=AZURE_OPENAI_API_KEY, deployment_name=\"gpt-4o\", model_kwargs={\"response_format\": {\"type\": \"json_object\"}})\n",
    "messages = [\n",
    "    (\n",
    "        \"system\",\n",
    "        \"You are a helpful assistant\",\n",
    "    ),\n",
    "    (\"human\", \"give me the name of the german capital in json format\"),\n",
    "]\n",
    "ai_msg = llm.invoke(messages)\n",
    "ai_msg"
   ],
   "id": "a03a375b87c7e2d4",
   "execution_count": 5,
   "outputs": []
  }
 ],
 "metadata": {
  "kernelspec": {
   "display_name": "Python 3",
   "language": "python",
   "name": "python3"
  },
  "language_info": {
   "codemirror_mode": {
    "name": "ipython",
    "version": 2
   },
   "file_extension": ".py",
   "mimetype": "text/x-python",
   "name": "python",
   "nbconvert_exporter": "python",
   "pygments_lexer": "ipython2",
   "version": "2.7.6"
  }
 },
 "nbformat": 4,
 "nbformat_minor": 5
}
