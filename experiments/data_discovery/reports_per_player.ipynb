{
 "cells": [
  {
   "metadata": {},
   "cell_type": "markdown",
   "source": "Finding out how many reports per player we roughly have",
   "id": "c9eab1eec8a4e039"
  },
  {
   "cell_type": "code",
   "id": "initial_id",
   "metadata": {
    "collapsed": true
   },
   "source": [
    "import json \n",
    "\n",
    "with open(\"../../data/team_prod.json\") as f:\n",
    "    data = json.load(f)"
   ],
   "execution_count": null,
   "outputs": []
  },
  {
   "metadata": {},
   "cell_type": "code",
   "source": [
    "map_player_id_to_count = {}\n",
    "tm_id = \"player_transfermarkt_id\"\n",
    "for report in data:\n",
    "    player_id = report[tm_id]\n",
    "    if player_id in map_player_id_to_count:\n",
    "        occurences = map_player_id_to_count[player_id] + 1\n",
    "        map_player_id_to_count[player_id] = occurences\n",
    "    else:\n",
    "        map_player_id_to_count[player_id] = 1"
   ],
   "id": "28de64441f3afeed",
   "execution_count": null,
   "outputs": []
  },
  {
   "metadata": {},
   "cell_type": "code",
   "source": [
    "# how many with more than 1 report do we have?\n",
    "for key, value in map_player_id_to_count.items():\n",
    "    if value > 10:\n",
    "        print(f\"{key}: {value}\")"
   ],
   "id": "a16135dcc33768d6",
   "execution_count": null,
   "outputs": []
  },
  {
   "metadata": {},
   "cell_type": "code",
   "source": [
    "# Reports with more than 1, more than 5, more than 10\n",
    "# how many with more than 1 report do we have?\n",
    "more_than_10 = 0\n",
    "more_than_5 = 0\n",
    "more_than_1 = 0\n",
    "\n",
    "for key, value in map_player_id_to_count.items():\n",
    "    if value > 1:\n",
    "        more_than_1 += 1\n",
    "        \n",
    "    if value > 5:\n",
    "        more_than_5 += 1\n",
    "        \n",
    "    \n",
    "    if value > 10:\n",
    "        more_than_10 += 1\n",
    "        \n",
    "print(f\"more than 1: {more_than_1}\\nmore than 5: {more_than_5}\\nmore than 10: {more_than_10}\")"
   ],
   "id": "54c480dfc4a095f5",
   "execution_count": null,
   "outputs": []
  },
  {
   "metadata": {},
   "cell_type": "code",
   "source": [
    "# total unique players\n",
    "print(len(map_player_id_to_count))"
   ],
   "id": "cd31e3b4aae3aac8",
   "execution_count": null,
   "outputs": []
  }
 ],
 "metadata": {
  "kernelspec": {
   "display_name": "Python 3",
   "language": "python",
   "name": "python3"
  },
  "language_info": {
   "codemirror_mode": {
    "name": "ipython",
    "version": 2
   },
   "file_extension": ".py",
   "mimetype": "text/x-python",
   "name": "python",
   "nbconvert_exporter": "python",
   "pygments_lexer": "ipython2",
   "version": "2.7.6"
  }
 },
 "nbformat": 4,
 "nbformat_minor": 5
}
