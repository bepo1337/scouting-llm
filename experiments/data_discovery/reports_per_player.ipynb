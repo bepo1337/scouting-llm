{
 "cells": [
  {
   "metadata": {},
   "cell_type": "markdown",
   "source": "Finding out how many reports per player we roughly have",
   "id": "c9eab1eec8a4e039"
  },
  {
   "cell_type": "code",
   "id": "initial_id",
   "metadata": {
    "collapsed": true,
    "ExecuteTime": {
     "end_time": "2024-07-21T16:52:50.344588Z",
     "start_time": "2024-07-21T16:52:50.104427Z"
    }
   },
   "source": [
    "import json \n",
    "\n",
    "with open(\"../../data/team_prod.json\") as f:\n",
    "    data = json.load(f)"
   ],
   "outputs": [],
   "execution_count": 1
  },
  {
   "metadata": {
    "ExecuteTime": {
     "end_time": "2024-07-21T16:52:52.925213Z",
     "start_time": "2024-07-21T16:52:52.914258Z"
    }
   },
   "cell_type": "code",
   "source": [
    "map_player_id_to_count = {}\n",
    "tm_id = \"player_transfermarkt_id\"\n",
    "for report in data:\n",
    "    player_id = report[tm_id]\n",
    "    if player_id in map_player_id_to_count:\n",
    "        occurences = map_player_id_to_count[player_id] + 1\n",
    "        map_player_id_to_count[player_id] = occurences\n",
    "    else:\n",
    "        map_player_id_to_count[player_id] = 1"
   ],
   "id": "28de64441f3afeed",
   "outputs": [],
   "execution_count": 2
  },
  {
   "metadata": {
    "ExecuteTime": {
     "end_time": "2024-07-21T16:52:54.904414Z",
     "start_time": "2024-07-21T16:52:54.895045Z"
    }
   },
   "cell_type": "code",
   "source": [
    "# how many with more than 1 report do we have?\n",
    "for key, value in map_player_id_to_count.items():\n",
    "    if value > 10:\n",
    "        print(f\"{key}: {value}\")"
   ],
   "id": "a16135dcc33768d6",
   "outputs": [
    {
     "name": "stdout",
     "output_type": "stream",
     "text": [
      "892089: 11\n",
      "650833: 11\n",
      "828045: 13\n",
      "662332: 11\n",
      "893663: 12\n",
      "741567: 12\n",
      "856143: 16\n",
      "926365: 11\n",
      "1015624: 12\n",
      "989925: 13\n",
      "975689: 12\n",
      "1052439: 14\n",
      "988222: 14\n",
      "1050373: 12\n",
      "1074584: 11\n",
      "1005575: 13\n"
     ]
    }
   ],
   "execution_count": 3
  },
  {
   "metadata": {
    "ExecuteTime": {
     "end_time": "2024-07-21T16:55:12.433520Z",
     "start_time": "2024-07-21T16:55:12.428870Z"
    }
   },
   "cell_type": "code",
   "source": [
    "# Reports with more than 1, more than 5, more than 10\n",
    "# how many with more than 1 report do we have?\n",
    "more_than_10 = 0\n",
    "more_than_5 = 0\n",
    "more_than_1 = 0\n",
    "more_than_5_player_ids = []\n",
    "\n",
    "for key, value in map_player_id_to_count.items():\n",
    "    if value > 1:\n",
    "        more_than_1 += 1\n",
    "        \n",
    "    if value > 5:\n",
    "        more_than_5_player_ids.append(key)\n",
    "        more_than_5 += 1\n",
    "        \n",
    "    \n",
    "    if value > 10:\n",
    "        more_than_10 += 1\n",
    "        \n",
    "print(f\"more than 1: {more_than_1}\\nmore than 5: {more_than_5}\\nmore than 10: {more_than_10}\")"
   ],
   "id": "54c480dfc4a095f5",
   "outputs": [
    {
     "name": "stdout",
     "output_type": "stream",
     "text": [
      "more than 1: 1663\n",
      "more than 5: 182\n",
      "more than 10: 16\n"
     ]
    }
   ],
   "execution_count": 8
  },
  {
   "metadata": {
    "ExecuteTime": {
     "end_time": "2024-07-21T16:53:26.408477Z",
     "start_time": "2024-07-21T16:53:26.402696Z"
    }
   },
   "cell_type": "code",
   "source": [
    "# total unique players\n",
    "print(len(map_player_id_to_count))  "
   ],
   "id": "cd31e3b4aae3aac8",
   "outputs": [
    {
     "name": "stdout",
     "output_type": "stream",
     "text": [
      "4521\n"
     ]
    }
   ],
   "execution_count": 5
  },
  {
   "metadata": {
    "ExecuteTime": {
     "end_time": "2024-07-21T16:55:16.888867Z",
     "start_time": "2024-07-21T16:55:16.883062Z"
    }
   },
   "cell_type": "code",
   "source": "more_than_5_player_ids",
   "id": "1e8bcb1e93b8b80a",
   "outputs": [
    {
     "data": {
      "text/plain": [
       "['166591',\n",
       " '90451',\n",
       " '87360',\n",
       " '284727',\n",
       " '617910',\n",
       " '271907',\n",
       " '626693',\n",
       " '463620',\n",
       " '474590',\n",
       " '465816',\n",
       " '745937',\n",
       " '906748',\n",
       " '572818',\n",
       " '468304',\n",
       " '486842',\n",
       " '412376',\n",
       " '410183',\n",
       " '410456',\n",
       " '570521',\n",
       " '498266',\n",
       " '460693',\n",
       " '607811',\n",
       " '585747',\n",
       " '587296',\n",
       " '569222',\n",
       " '814339',\n",
       " '524932',\n",
       " '610651',\n",
       " '614898',\n",
       " '522131',\n",
       " '892089',\n",
       " '572044',\n",
       " '662459',\n",
       " '659801',\n",
       " '657784',\n",
       " '657751',\n",
       " '634023',\n",
       " '599482',\n",
       " '650833',\n",
       " '828045',\n",
       " '881116',\n",
       " '664708',\n",
       " '662332',\n",
       " '797141',\n",
       " '980825',\n",
       " '849520',\n",
       " '744015',\n",
       " '893659',\n",
       " '893663',\n",
       " '848561',\n",
       " '1001531',\n",
       " '912703',\n",
       " '755457',\n",
       " '736202',\n",
       " '858719',\n",
       " '928647',\n",
       " '842910',\n",
       " '741567',\n",
       " '720447',\n",
       " '980137',\n",
       " '897051',\n",
       " '659838',\n",
       " '985351',\n",
       " '726697',\n",
       " '872171',\n",
       " '856047',\n",
       " '856143',\n",
       " '907559',\n",
       " '862145',\n",
       " '888031',\n",
       " '1005165',\n",
       " '891999',\n",
       " '895679',\n",
       " '898352',\n",
       " '938123',\n",
       " '914209',\n",
       " '926365',\n",
       " '942666',\n",
       " '930194',\n",
       " '950593',\n",
       " '958457',\n",
       " '958473',\n",
       " '1015624',\n",
       " '960057',\n",
       " '989925',\n",
       " '975689',\n",
       " '1052439',\n",
       " '974652',\n",
       " '978952',\n",
       " '980143',\n",
       " '914327',\n",
       " '988222',\n",
       " '1000673',\n",
       " '1006054',\n",
       " '1074497',\n",
       " '1108681',\n",
       " '1050373',\n",
       " '1051841',\n",
       " '1060740',\n",
       " '1060279',\n",
       " '638216',\n",
       " '1074584',\n",
       " '1112486',\n",
       " '1175703',\n",
       " '1088870',\n",
       " '1124296',\n",
       " '1088389',\n",
       " '1086589',\n",
       " '1088866',\n",
       " '1119914',\n",
       " '1124283',\n",
       " '1124280',\n",
       " '131114',\n",
       " '179806',\n",
       " '401727',\n",
       " '417327',\n",
       " '360791',\n",
       " '375378',\n",
       " '491705',\n",
       " '555106',\n",
       " '611426',\n",
       " '454625',\n",
       " '554972',\n",
       " '657743',\n",
       " '482144',\n",
       " '668549',\n",
       " '831162',\n",
       " '627227',\n",
       " '568535',\n",
       " '577489',\n",
       " '981056',\n",
       " '633724',\n",
       " '670201',\n",
       " '703324',\n",
       " '815381',\n",
       " '668237',\n",
       " '743600',\n",
       " '678439',\n",
       " '945001',\n",
       " '668235',\n",
       " '656112',\n",
       " '847283',\n",
       " '1019744',\n",
       " '893648',\n",
       " '893658',\n",
       " '994536',\n",
       " '853278',\n",
       " '743586',\n",
       " '1067822',\n",
       " '964580',\n",
       " '985383',\n",
       " '814273',\n",
       " '742803',\n",
       " '958598',\n",
       " '856184',\n",
       " '871655',\n",
       " '1005587',\n",
       " '903610',\n",
       " '1009030',\n",
       " '1112488',\n",
       " '1040204',\n",
       " '984904',\n",
       " '1074501',\n",
       " '1012564',\n",
       " '1025582',\n",
       " '928621',\n",
       " '1074969',\n",
       " '1005802',\n",
       " '1005800',\n",
       " '1005575',\n",
       " '1005007',\n",
       " '953901',\n",
       " '1074967',\n",
       " '1124298',\n",
       " '1035019',\n",
       " '1087334',\n",
       " '1034801',\n",
       " '1086258',\n",
       " '1119009',\n",
       " '1074505',\n",
       " '1074496',\n",
       " '1119926']"
      ]
     },
     "execution_count": 9,
     "metadata": {},
     "output_type": "execute_result"
    }
   ],
   "execution_count": 9
  }
 ],
 "metadata": {
  "kernelspec": {
   "display_name": "Python 3",
   "language": "python",
   "name": "python3"
  },
  "language_info": {
   "codemirror_mode": {
    "name": "ipython",
    "version": 2
   },
   "file_extension": ".py",
   "mimetype": "text/x-python",
   "name": "python",
   "nbconvert_exporter": "python",
   "pygments_lexer": "ipython2",
   "version": "2.7.6"
  }
 },
 "nbformat": 4,
 "nbformat_minor": 5
}
