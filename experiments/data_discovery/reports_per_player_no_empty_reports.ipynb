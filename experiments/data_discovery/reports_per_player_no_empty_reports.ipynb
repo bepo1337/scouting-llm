{
 "cells": [
  {
   "metadata": {},
   "cell_type": "markdown",
   "source": "Same as \"reports_per_player\" but here we only count the reports that have at least something in the text field\n",
   "id": "c9eab1eec8a4e039"
  },
  {
   "cell_type": "code",
   "id": "initial_id",
   "metadata": {
    "collapsed": true,
    "ExecuteTime": {
     "end_time": "2024-07-21T17:48:39.947041Z",
     "start_time": "2024-07-21T17:48:39.896196Z"
    }
   },
   "source": [
    "import json \n",
    "\n",
    "with open(\"../../data/team_prod.json\") as f:\n",
    "    data = json.load(f)"
   ],
   "outputs": [],
   "execution_count": 5
  },
  {
   "metadata": {
    "ExecuteTime": {
     "end_time": "2024-07-21T17:48:41.107375Z",
     "start_time": "2024-07-21T17:48:41.100370Z"
    }
   },
   "cell_type": "code",
   "source": [
    "map_player_id_to_count = {}\n",
    "tm_id = \"player_transfermarkt_id\"\n",
    "for report in data:\n",
    "    player_id = report[tm_id]\n",
    "    if player_id in map_player_id_to_count:\n",
    "        if report['text'] != \"\":\n",
    "            occurences = map_player_id_to_count[player_id] + 1\n",
    "            map_player_id_to_count[player_id] = occurences\n",
    "    else:\n",
    "        if report['text'] != \"\":\n",
    "            map_player_id_to_count[player_id] = 1"
   ],
   "id": "28de64441f3afeed",
   "outputs": [],
   "execution_count": 6
  },
  {
   "metadata": {
    "ExecuteTime": {
     "end_time": "2024-07-21T17:48:42.234664Z",
     "start_time": "2024-07-21T17:48:42.230233Z"
    }
   },
   "cell_type": "code",
   "source": [
    "# how many with more than 1 report do we have?\n",
    "for key, value in map_player_id_to_count.items():\n",
    "    if value > 10:\n",
    "        print(f\"{key}: {value}\")"
   ],
   "id": "a16135dcc33768d6",
   "outputs": [
    {
     "name": "stdout",
     "output_type": "stream",
     "text": [
      "828045: 12\n",
      "856143: 12\n",
      "1015624: 11\n",
      "989925: 13\n",
      "975689: 11\n",
      "988222: 11\n"
     ]
    }
   ],
   "execution_count": 7
  },
  {
   "metadata": {
    "ExecuteTime": {
     "end_time": "2024-07-21T17:48:43.985333Z",
     "start_time": "2024-07-21T17:48:43.980008Z"
    }
   },
   "cell_type": "code",
   "source": [
    "# Reports with more than 1, more than 5, more than 10\n",
    "# how many with more than 1 report do we have?\n",
    "more_than_10 = 0\n",
    "more_than_5 = 0\n",
    "more_than_1 = 0\n",
    "more_than_5_player_ids = []\n",
    "\n",
    "for key, value in map_player_id_to_count.items():\n",
    "    if value > 1:\n",
    "        more_than_1 += 1\n",
    "        \n",
    "    if value > 5:\n",
    "        more_than_5_player_ids.append(key)\n",
    "        more_than_5 += 1\n",
    "        \n",
    "    \n",
    "    if value > 10:\n",
    "        more_than_10 += 1\n",
    "        \n",
    "print(f\"more than 1: {more_than_1}\\nmore than 5: {more_than_5}\\nmore than 10: {more_than_10}\")"
   ],
   "id": "54c480dfc4a095f5",
   "outputs": [
    {
     "name": "stdout",
     "output_type": "stream",
     "text": [
      "more than 1: 1215\n",
      "more than 5: 89\n",
      "more than 10: 6\n"
     ]
    }
   ],
   "execution_count": 8
  },
  {
   "metadata": {
    "ExecuteTime": {
     "end_time": "2024-07-21T17:48:48.828214Z",
     "start_time": "2024-07-21T17:48:48.824966Z"
    }
   },
   "cell_type": "code",
   "source": [
    "# total unique players\n",
    "print(len(map_player_id_to_count))  "
   ],
   "id": "cd31e3b4aae3aac8",
   "outputs": [
    {
     "name": "stdout",
     "output_type": "stream",
     "text": [
      "3763\n"
     ]
    }
   ],
   "execution_count": 9
  },
  {
   "metadata": {
    "ExecuteTime": {
     "end_time": "2024-07-21T17:51:05.712875Z",
     "start_time": "2024-07-21T17:51:05.706580Z"
    }
   },
   "cell_type": "code",
   "source": "more_than_5_player_ids",
   "id": "6f658f865ffcdbc0",
   "outputs": [
    {
     "data": {
      "text/plain": [
       "['166591',\n",
       " '271907',\n",
       " '626693',\n",
       " '474590',\n",
       " '906748',\n",
       " '572818',\n",
       " '410456',\n",
       " '570521',\n",
       " '587296',\n",
       " '569222',\n",
       " '524932',\n",
       " '610651',\n",
       " '522131',\n",
       " '572044',\n",
       " '657751',\n",
       " '634023',\n",
       " '650833',\n",
       " '828045',\n",
       " '662332',\n",
       " '849520',\n",
       " '744015',\n",
       " '893659',\n",
       " '893663',\n",
       " '848561',\n",
       " '912703',\n",
       " '928647',\n",
       " '842910',\n",
       " '897051',\n",
       " '985351',\n",
       " '726697',\n",
       " '856143',\n",
       " '907559',\n",
       " '862145',\n",
       " '888031',\n",
       " '891999',\n",
       " '898352',\n",
       " '938123',\n",
       " '926365',\n",
       " '942666',\n",
       " '930194',\n",
       " '958457',\n",
       " '958473',\n",
       " '1015624',\n",
       " '960057',\n",
       " '989925',\n",
       " '975689',\n",
       " '1052439',\n",
       " '974652',\n",
       " '978952',\n",
       " '980143',\n",
       " '914327',\n",
       " '988222',\n",
       " '1050373',\n",
       " '1051841',\n",
       " '1060279',\n",
       " '638216',\n",
       " '1074584',\n",
       " '1175703',\n",
       " '1086589',\n",
       " '1088866',\n",
       " '401727',\n",
       " '360791',\n",
       " '555106',\n",
       " '611426',\n",
       " '668549',\n",
       " '627227',\n",
       " '577489',\n",
       " '981056',\n",
       " '633724',\n",
       " '945001',\n",
       " '656112',\n",
       " '847283',\n",
       " '893658',\n",
       " '994536',\n",
       " '736202',\n",
       " '985383',\n",
       " '814273',\n",
       " '741567',\n",
       " '742803',\n",
       " '856184',\n",
       " '895679',\n",
       " '903610',\n",
       " '1009030',\n",
       " '1040204',\n",
       " '984904',\n",
       " '1025582',\n",
       " '953901',\n",
       " '1074505',\n",
       " '1074496']"
      ]
     },
     "execution_count": 10,
     "metadata": {},
     "output_type": "execute_result"
    }
   ],
   "execution_count": 10
  }
 ],
 "metadata": {
  "kernelspec": {
   "display_name": "Python 3",
   "language": "python",
   "name": "python3"
  },
  "language_info": {
   "codemirror_mode": {
    "name": "ipython",
    "version": 2
   },
   "file_extension": ".py",
   "mimetype": "text/x-python",
   "name": "python",
   "nbconvert_exporter": "python",
   "pygments_lexer": "ipython2",
   "version": "2.7.6"
  }
 },
 "nbformat": 4,
 "nbformat_minor": 5
}
