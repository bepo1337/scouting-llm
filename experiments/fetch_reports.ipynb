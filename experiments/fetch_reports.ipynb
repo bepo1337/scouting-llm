{
 "cells": [
  {
   "metadata": {},
   "cell_type": "markdown",
   "source": [
    "Resources used:\n",
    "- https://python.langchain.com/v0.1/docs/integrations/vectorstores/milvus/\n",
    "- https://milvus.io/docs/integrate_with_langchain.md"
   ],
   "id": "ceb6154fd59a9d00"
  },
  {
   "metadata": {
    "ExecuteTime": {
     "end_time": "2024-06-12T17:57:56.992765Z",
     "start_time": "2024-06-12T17:57:56.979303Z"
    }
   },
   "cell_type": "code",
   "source": [
    "import os\n",
    "from dotenv import load_dotenv\n",
    "\n",
    "load_dotenv()\n",
    "\n",
    "#OPENAI_API_KEY = os.getenv(\"OPENAPI_KEY\") # (Optional), if OpenAI Model is used\n",
    "\n",
    "MODEL = \"mistral:latest\" # Name of the model used by Ollama\n",
    "EMBEDDING_MODEL = \"nomic-embed-text\"\n",
    "COLLECTION_NAME = 'scouting' # Name of the Collection to be created\n",
    "DIMENSION = 768 # Dimension of the embeddings\n",
    "\n",
    "URI = 'http://localhost:19530' # Connection parameters for the Milvus Server"
   ],
   "id": "da2315003ac11e54",
   "execution_count": 1,
   "outputs": []
  },
  {
   "metadata": {
    "ExecuteTime": {
     "end_time": "2024-06-12T17:57:59.342571Z",
     "start_time": "2024-06-12T17:57:58.559991Z"
    }
   },
   "cell_type": "code",
   "source": [
    "from langchain_community.llms import Ollama\n",
    "from langchain_community.embeddings import OllamaEmbeddings\n",
    "\n",
    "model = Ollama(model=MODEL)\n",
    "embeddings = OllamaEmbeddings(model=EMBEDDING_MODEL)"
   ],
   "id": "745c61b5491a06db",
   "execution_count": 2,
   "outputs": []
  },
  {
   "metadata": {
    "ExecuteTime": {
     "end_time": "2024-06-12T18:23:34.665912Z",
     "start_time": "2024-06-12T18:23:34.655966Z"
    }
   },
   "cell_type": "code",
   "source": [
    "# Configure the prompt template that is used to ask the LLM\n",
    "\n",
    "from langchain_core.prompts import PromptTemplate\n",
    "\n",
    "PROMPT_TEMPLATE = \"\"\"\n",
    "Human: You are an AI assistant in football (soccer) scouting, and provides answers to questions by using fact based and statistical information when possible.\n",
    "Use the following pieces of information to provide a concise answer to the question enclosed in <question> tags.\n",
    "If you don't know the answer from the context, just say that you don't know, don't try to make up an answer.\n",
    "\n",
    "<context>\n",
    "{context}\n",
    "</context>\n",
    "\n",
    "<question>\n",
    "{question}\n",
    "</question>\n",
    "\n",
    "The response should be specific and use statistics or numbers when possible.\n",
    "The structure the response should be that you rank the players based on their reports and provide a short summary of the reports from the context.\n",
    "\n",
    "Assistant:\"\"\"\n",
    "\n",
    "prompt = PromptTemplate(\n",
    "    template=PROMPT_TEMPLATE, input_variables=[\"context\", \"question\"]\n",
    ")\n",
    "print(prompt.format(context=\"Here is some context\", question=\"Here is a question\"))"
   ],
   "id": "df75b1522924f257",
   "execution_count": 23,
   "outputs": []
  },
  {
   "metadata": {
    "ExecuteTime": {
     "end_time": "2024-06-12T17:58:06.383684Z",
     "start_time": "2024-06-12T17:58:04.797303Z"
    }
   },
   "cell_type": "code",
   "source": [
    "# Use Milvus as Vectorstore\n",
    "\n",
    "from langchain_community.vectorstores import Milvus\n",
    "\n",
    "connection_args = {'uri': URI }\n",
    "\n",
    "vectorstore = Milvus(\n",
    "    embedding_function=embeddings,\n",
    "    connection_args=connection_args,\n",
    "    collection_name=COLLECTION_NAME,\n",
    "    vector_field=\"embeddings\",\n",
    "    primary_field=\"id\",\n",
    "    auto_id=True\n",
    ")\n"
   ],
   "id": "45e3e5d634727002",
   "execution_count": 4,
   "outputs": []
  },
  {
   "metadata": {
    "ExecuteTime": {
     "end_time": "2024-06-12T17:58:10.805176Z",
     "start_time": "2024-06-12T17:58:10.799481Z"
    }
   },
   "cell_type": "code",
   "source": [
    "# Convert the vector store to a retriever\n",
    "# k:2 --> Limit to 2 documents\n",
    "retriever = vectorstore.as_retriever(search_kwargs={'k': 2})\n",
    "# Define a function to format the retrieved documents\n",
    "def format_docs(docs):\n",
    "    return \"\\n\\n\".join(doc.page_content for doc in docs)"
   ],
   "id": "f882bd20b36b7ae4",
   "execution_count": 5,
   "outputs": []
  },
  {
   "metadata": {
    "ExecuteTime": {
     "end_time": "2024-06-12T18:11:08.836796Z",
     "start_time": "2024-06-12T18:11:08.830621Z"
    }
   },
   "cell_type": "code",
   "source": [
    "# Convert the vector store to a retriever\n",
    "# k:2 --> Limit to 2 documents\n",
    "retriever = vectorstore.as_retriever(search_kwargs={'k': 2})\n",
    "# Define a function to format the retrieved documents\n",
    "def format_docs(docs):\n",
    "    returnString = \"\\n\\n\".join(f\"Player ID: {doc.metadata['player_transfermarkt_id']}, Report-Content: \" + doc.page_content for doc in docs)\n",
    "    print(returnString)\n",
    "    return returnString"
   ],
   "id": "f463c80a8a5ef191",
   "execution_count": 19,
   "outputs": []
  },
  {
   "metadata": {},
   "cell_type": "code",
   "execution_count": null,
   "source": "",
   "id": "5fbe02d23e57e798",
   "outputs": []
  },
  {
   "metadata": {
    "ExecuteTime": {
     "end_time": "2024-06-12T18:25:16.439610Z",
     "start_time": "2024-06-12T18:23:45.146387Z"
    }
   },
   "cell_type": "code",
   "source": [
    "from langchain_core.runnables import RunnablePassthrough\n",
    "from langchain_core.output_parsers import StrOutputParser\n",
    "\n",
    "rag_chain = (\n",
    "    {\"context\": retriever | format_docs, \"question\": RunnablePassthrough()}\n",
    "    | prompt\n",
    "    | model\n",
    "    | StrOutputParser()\n",
    ")\n",
    "\n",
    "# rag_chain.get_graph().print_ascii()\n",
    "\n",
    "# Invoke the RAG chain with a specific question and retrieve the response\n",
    "query = \"I need a right-back who can play consistently throughout the game. He should also be good going forward\"\n",
    "res = rag_chain.invoke(query)\n",
    "res"
   ],
   "id": "4135d6b87ab58b8a",
   "execution_count": 24,
   "outputs": []
  },
  {
   "metadata": {
    "ExecuteTime": {
     "end_time": "2024-06-10T04:35:56.361739Z",
     "start_time": "2024-06-10T04:35:56.357722Z"
    }
   },
   "cell_type": "code",
   "source": [
    "from langchain_core.documents.base import Document\n",
    "\n",
    "def extract_metadata(doc: Document) -> dict:\n",
    "    return doc.metadata"
   ],
   "id": "f36ec6c86b20a653",
   "execution_count": 16,
   "outputs": []
  },
  {
   "metadata": {
    "ExecuteTime": {
     "end_time": "2024-06-10T04:35:56.994555Z",
     "start_time": "2024-06-10T04:35:56.363412Z"
    }
   },
   "cell_type": "code",
   "source": [
    "# How to work with meta data from our query\n",
    "retrived_documents = retriever.invoke(query)\n",
    "retrived_documents"
   ],
   "id": "6eeb0401737946d6",
   "execution_count": 17,
   "outputs": []
  },
  {
   "metadata": {
    "ExecuteTime": {
     "end_time": "2024-06-10T04:35:57.002194Z",
     "start_time": "2024-06-10T04:35:56.996519Z"
    }
   },
   "cell_type": "code",
   "source": [
    "metadata = extract_metadata(retrived_documents[0])\n",
    "metadata"
   ],
   "id": "347f4dd205a2a218",
   "execution_count": 18,
   "outputs": []
  },
  {
   "metadata": {
    "ExecuteTime": {
     "end_time": "2024-06-10T04:35:57.039020Z",
     "start_time": "2024-06-10T04:35:57.004202Z"
    }
   },
   "cell_type": "code",
   "source": [
    "# Transfermarkt Link\n",
    "print(f\"Transfermarkt.com Link: https://www.transfermarkt.com/player-name/profil/spieler/{metadata['player_transfermarkt_id']}\")"
   ],
   "id": "af7e594739a62f82",
   "execution_count": 19,
   "outputs": []
  },
  {
   "metadata": {
    "ExecuteTime": {
     "end_time": "2024-06-10T04:35:57.045714Z",
     "start_time": "2024-06-10T04:35:57.041469Z"
    }
   },
   "cell_type": "code",
   "source": [
    "from langchain_core.documents.base import Document\n",
    "\n",
    "def print_texts(doc: Document):\n",
    "    print(doc.page_content)"
   ],
   "id": "b56c11a7c8d5ed2e",
   "execution_count": 20,
   "outputs": []
  },
  {
   "metadata": {
    "ExecuteTime": {
     "end_time": "2024-06-10T04:35:57.053929Z",
     "start_time": "2024-06-10T04:35:57.047399Z"
    }
   },
   "cell_type": "code",
   "source": [
    "# get original texts\n",
    "print_texts(retrived_documents[0])"
   ],
   "id": "2550403e4a1b9686",
   "execution_count": 21,
   "outputs": []
  },
  {
   "metadata": {
    "ExecuteTime": {
     "end_time": "2024-06-10T04:37:02.191700Z",
     "start_time": "2024-06-10T04:35:57.056855Z"
    }
   },
   "cell_type": "code",
   "source": [
    "irrelevant_query = \"Ich will einen Kuchen backen. Welche Rezepte kannst du mir vorschlagen?\"\n",
    "res = rag_chain.invoke(irrelevant_query)\n",
    "res"
   ],
   "id": "e2628ed4ebfd480e",
   "execution_count": 22,
   "outputs": []
  },
  {
   "metadata": {
    "ExecuteTime": {
     "end_time": "2024-06-10T04:37:02.997894Z",
     "start_time": "2024-06-10T04:37:02.193186Z"
    }
   },
   "cell_type": "code",
   "source": [
    "# Demonstrate retrival based on metadata\n",
    "other_retriver = vectorstore.as_retriever(search_kwargs={\"expr\": 'scout_id == \"3456\"'})\n",
    "expr_res = other_retriver.invoke(query)\n",
    "expr_res"
   ],
   "id": "c1d6034aa2cc0a70",
   "execution_count": 23,
   "outputs": []
  }
 ],
 "metadata": {
  "kernelspec": {
   "display_name": "Python 3",
   "language": "python",
   "name": "python3"
  },
  "language_info": {
   "codemirror_mode": {
    "name": "ipython",
    "version": 2
   },
   "file_extension": ".py",
   "mimetype": "text/x-python",
   "name": "python",
   "nbconvert_exporter": "python",
   "pygments_lexer": "ipython2",
   "version": "2.7.6"
  }
 },
 "nbformat": 4,
 "nbformat_minor": 5
}
