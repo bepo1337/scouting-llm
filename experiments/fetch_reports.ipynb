{
 "cells": [
  {
   "metadata": {},
   "cell_type": "markdown",
   "source": [
    "Resources used:\n",
    "- https://python.langchain.com/v0.1/docs/integrations/vectorstores/milvus/\n",
    "- https://milvus.io/docs/integrate_with_langchain.md"
   ],
   "id": "ceb6154fd59a9d00"
  },
  {
   "metadata": {
    "ExecuteTime": {
     "end_time": "2024-06-12T17:57:56.992765Z",
     "start_time": "2024-06-12T17:57:56.979303Z"
    }
   },
   "cell_type": "code",
   "source": [
    "import os\n",
    "from dotenv import load_dotenv\n",
    "\n",
    "load_dotenv()\n",
    "\n",
    "#OPENAI_API_KEY = os.getenv(\"OPENAPI_KEY\") # (Optional), if OpenAI Model is used\n",
    "\n",
    "MODEL = \"mistral:latest\" # Name of the model used by Ollama\n",
    "EMBEDDING_MODEL = \"nomic-embed-text\"\n",
    "COLLECTION_NAME = 'scouting' # Name of the Collection to be created\n",
    "DIMENSION = 768 # Dimension of the embeddings\n",
    "\n",
    "URI = 'http://localhost:19530' # Connection parameters for the Milvus Server"
   ],
   "id": "da2315003ac11e54",
   "outputs": [],
   "execution_count": 1
  },
  {
   "metadata": {
    "ExecuteTime": {
     "end_time": "2024-06-12T17:57:59.342571Z",
     "start_time": "2024-06-12T17:57:58.559991Z"
    }
   },
   "cell_type": "code",
   "source": [
    "from langchain_community.llms import Ollama\n",
    "from langchain_community.embeddings import OllamaEmbeddings\n",
    "\n",
    "model = Ollama(model=MODEL)\n",
    "embeddings = OllamaEmbeddings(model=EMBEDDING_MODEL)"
   ],
   "id": "745c61b5491a06db",
   "outputs": [],
   "execution_count": 2
  },
  {
   "metadata": {
    "ExecuteTime": {
     "end_time": "2024-06-12T18:23:34.665912Z",
     "start_time": "2024-06-12T18:23:34.655966Z"
    }
   },
   "cell_type": "code",
   "source": [
    "# Configure the prompt template that is used to ask the LLM\n",
    "\n",
    "from langchain_core.prompts import PromptTemplate\n",
    "\n",
    "PROMPT_TEMPLATE = \"\"\"\n",
    "Human: You are an AI assistant in football (soccer) scouting, and provides answers to questions by using fact based and statistical information when possible.\n",
    "Use the following pieces of information to provide a concise answer to the question enclosed in <question> tags.\n",
    "If you don't know the answer from the context, just say that you don't know, don't try to make up an answer.\n",
    "\n",
    "<context>\n",
    "{context}\n",
    "</context>\n",
    "\n",
    "<question>\n",
    "{question}\n",
    "</question>\n",
    "\n",
    "The response should be specific and use statistics or numbers when possible.\n",
    "The structure the response should be that you rank the players based on their reports and provide a short summary of the reports from the context.\n",
    "\n",
    "Assistant:\"\"\"\n",
    "\n",
    "prompt = PromptTemplate(\n",
    "    template=PROMPT_TEMPLATE, input_variables=[\"context\", \"question\"]\n",
    ")\n",
    "print(prompt.format(context=\"Here is some context\", question=\"Here is a question\"))"
   ],
   "id": "df75b1522924f257",
   "outputs": [
    {
     "name": "stdout",
     "output_type": "stream",
     "text": [
      "\n",
      "Human: You are an AI assistant in football (soccer) scouting, and provides answers to questions by using fact based and statistical information when possible.\n",
      "Use the following pieces of information to provide a concise answer to the question enclosed in <question> tags.\n",
      "If you don't know the answer from the context, just say that you don't know, don't try to make up an answer.\n",
      "\n",
      "<context>\n",
      "Here is some context\n",
      "</context>\n",
      "\n",
      "<question>\n",
      "Here is a question\n",
      "</question>\n",
      "\n",
      "The response should be specific and use statistics or numbers when possible.\n",
      "The structure the response should be that you rank the players based on their reports and provide a short summary of the reports from the context.\n",
      "\n",
      "Assistant:\n"
     ]
    }
   ],
   "execution_count": 23
  },
  {
   "metadata": {
    "ExecuteTime": {
     "end_time": "2024-06-12T17:58:06.383684Z",
     "start_time": "2024-06-12T17:58:04.797303Z"
    }
   },
   "cell_type": "code",
   "source": [
    "# Use Milvus as Vectorstore\n",
    "\n",
    "from langchain_community.vectorstores import Milvus\n",
    "\n",
    "connection_args = {'uri': URI }\n",
    "\n",
    "vectorstore = Milvus(\n",
    "    embedding_function=embeddings,\n",
    "    connection_args=connection_args,\n",
    "    collection_name=COLLECTION_NAME,\n",
    "    vector_field=\"embeddings\",\n",
    "    primary_field=\"id\",\n",
    "    auto_id=True\n",
    ")\n"
   ],
   "id": "45e3e5d634727002",
   "outputs": [],
   "execution_count": 4
  },
  {
   "metadata": {
    "ExecuteTime": {
     "end_time": "2024-06-12T17:58:10.805176Z",
     "start_time": "2024-06-12T17:58:10.799481Z"
    }
   },
   "cell_type": "code",
   "source": [
    "# Convert the vector store to a retriever\n",
    "# k:2 --> Limit to 2 documents\n",
    "retriever = vectorstore.as_retriever(search_kwargs={'k': 2})\n",
    "# Define a function to format the retrieved documents\n",
    "def format_docs(docs):\n",
    "    return \"\\n\\n\".join(doc.page_content for doc in docs)"
   ],
   "id": "f882bd20b36b7ae4",
   "outputs": [],
   "execution_count": 5
  },
  {
   "metadata": {
    "ExecuteTime": {
     "end_time": "2024-06-12T18:11:08.836796Z",
     "start_time": "2024-06-12T18:11:08.830621Z"
    }
   },
   "cell_type": "code",
   "source": [
    "# Convert the vector store to a retriever\n",
    "# k:2 --> Limit to 2 documents\n",
    "retriever = vectorstore.as_retriever(search_kwargs={'k': 2})\n",
    "# Define a function to format the retrieved documents\n",
    "def format_docs(docs):\n",
    "    returnString = \"\\n\\n\".join(f\"Player ID: {doc.metadata['player_transfermarkt_id']}, Report-Content: \" + doc.page_content for doc in docs)\n",
    "    print(returnString)\n",
    "    return returnString"
   ],
   "id": "f463c80a8a5ef191",
   "outputs": [],
   "execution_count": 19
  },
  {
   "metadata": {},
   "cell_type": "code",
   "outputs": [],
   "execution_count": null,
   "source": "",
   "id": "5fbe02d23e57e798"
  },
  {
   "metadata": {
    "ExecuteTime": {
     "end_time": "2024-06-12T18:25:16.439610Z",
     "start_time": "2024-06-12T18:23:45.146387Z"
    }
   },
   "cell_type": "code",
   "source": [
    "from langchain_core.runnables import RunnablePassthrough\n",
    "from langchain_core.output_parsers import StrOutputParser\n",
    "\n",
    "rag_chain = (\n",
    "    {\"context\": retriever | format_docs, \"question\": RunnablePassthrough()}\n",
    "    | prompt\n",
    "    | model\n",
    "    | StrOutputParser()\n",
    ")\n",
    "\n",
    "# rag_chain.get_graph().print_ascii()\n",
    "\n",
    "# Invoke the RAG chain with a specific question and retrieve the response\n",
    "query = \"I need a right-back who can play consistently throughout the game. He should also be good going forward\"\n",
    "res = rag_chain.invoke(query)\n",
    "res"
   ],
   "id": "4135d6b87ab58b8a",
   "outputs": [
    {
     "name": "stdout",
     "output_type": "stream",
     "text": [
      "Player ID: 951357, Report-Content: \n",
      " Played as a right back and showed a consistent performance over 90 minutes.\n",
      "Was secure defensively and allowed few crosses.\n",
      "Offensively, he set accents with precise passes and well-timed forward runs.\n",
      "His stamina and commitment were remarkable.\n",
      "However, he lacked top speed, which could be problematic against fast wingers.\n",
      "At 25 years old, he is at a good age to improve further.\n",
      " \n",
      "\n",
      "Player ID: 159753, Report-Content: \n",
      " Played as a left back again with impressive speed and strong defensive positioning.\n",
      "Had difficulties in ball handling under pressure, but was offensively dangerous with some good crosses.\n",
      "His stamina allows him to perform consistently over 90 minutes.\n",
      "More precision in long passes would be desirable.\n",
      "At 24 years old, still a player with promising potential.\n",
      " \n"
     ]
    },
    {
     "data": {
      "text/plain": [
       "\" Based on the reports provided, both players (951357 and 159753) have shown consistent performance throughout the game as right-backs. However, if we focus specifically on qualities that make a player good going forward, here's a ranking:\\n\\n1. Player ID: 159753 - This player demonstrated offensive danger with some good crosses, but could benefit from more precision in long passes. His speed and defensive positioning are impressive.\\n\\n2. Player ID: 951357 - While this player was secure defensively and set accents with precise passes and well-timed forward runs, his lack of top speed against fast wingers is a potential issue. He has the stamina to perform consistently over 90 minutes, but his offensive contributions might not be as impactful as Player ID: 159753.\\n\\nIn summary, Player ID: 159753 appears to have more offensive potential compared to Player ID: 951357, but both players can play consistently throughout the game.\""
      ]
     },
     "execution_count": 24,
     "metadata": {},
     "output_type": "execute_result"
    }
   ],
   "execution_count": 24
  },
  {
   "metadata": {
    "ExecuteTime": {
     "end_time": "2024-06-10T04:35:56.361739Z",
     "start_time": "2024-06-10T04:35:56.357722Z"
    }
   },
   "cell_type": "code",
   "source": [
    "from langchain_core.documents.base import Document\n",
    "\n",
    "def extract_metadata(doc: Document) -> dict:\n",
    "    return doc.metadata"
   ],
   "id": "f36ec6c86b20a653",
   "outputs": [],
   "execution_count": 16
  },
  {
   "metadata": {
    "ExecuteTime": {
     "end_time": "2024-06-10T04:35:56.994555Z",
     "start_time": "2024-06-10T04:35:56.363412Z"
    }
   },
   "cell_type": "code",
   "source": [
    "# How to work with meta data from our query\n",
    "retrived_documents = retriever.invoke(query)\n",
    "retrived_documents"
   ],
   "id": "6eeb0401737946d6",
   "outputs": [
    {
     "data": {
      "text/plain": [
       "[Document(page_content='\\n Played as a right back and showed a consistent performance over 90 minutes.\\nWas secure defensively and allowed few crosses.\\nOffensively, he set accents with precise passes and well-timed forward runs.\\nHis stamina and commitment were remarkable.\\nHowever, he lacked top speed, which could be problematic against fast wingers.\\nAt 25 years old, he is at a good age to improve further.\\n ', metadata={'id': 450360548525353451, 'scout_id': '0987', 'player_id': 'bf1234567890abcdef123456', 'player_transfermarkt_id': '951357', 'grade_rating': 0.699999988079071, 'grade_potential': 0.75}),\n",
       " Document(page_content='\\n Played as a left back again with impressive speed and strong defensive positioning.\\nHad difficulties in ball handling under pressure, but was offensively dangerous with some good crosses.\\nHis stamina allows him to perform consistently over 90 minutes.\\nMore precision in long passes would be desirable.\\nAt 24 years old, still a player with promising potential.\\n ', metadata={'id': 450360548525353455, 'scout_id': '5678', 'player_id': '6b1234567890abcdef123456', 'player_transfermarkt_id': '159753', 'grade_rating': 0.699999988079071, 'grade_potential': 0.800000011920929})]"
      ]
     },
     "execution_count": 17,
     "metadata": {},
     "output_type": "execute_result"
    }
   ],
   "execution_count": 17
  },
  {
   "metadata": {
    "ExecuteTime": {
     "end_time": "2024-06-10T04:35:57.002194Z",
     "start_time": "2024-06-10T04:35:56.996519Z"
    }
   },
   "cell_type": "code",
   "source": [
    "metadata = extract_metadata(retrived_documents[0])\n",
    "metadata"
   ],
   "id": "347f4dd205a2a218",
   "outputs": [
    {
     "data": {
      "text/plain": [
       "{'id': 450360548525353451,\n",
       " 'scout_id': '0987',\n",
       " 'player_id': 'bf1234567890abcdef123456',\n",
       " 'player_transfermarkt_id': '951357',\n",
       " 'grade_rating': 0.699999988079071,\n",
       " 'grade_potential': 0.75}"
      ]
     },
     "execution_count": 18,
     "metadata": {},
     "output_type": "execute_result"
    }
   ],
   "execution_count": 18
  },
  {
   "metadata": {
    "ExecuteTime": {
     "end_time": "2024-06-10T04:35:57.039020Z",
     "start_time": "2024-06-10T04:35:57.004202Z"
    }
   },
   "cell_type": "code",
   "source": [
    "# Transfermarkt Link\n",
    "print(f\"Transfermarkt.com Link: https://www.transfermarkt.com/player-name/profil/spieler/{metadata['player_transfermarkt_id']}\")"
   ],
   "id": "af7e594739a62f82",
   "outputs": [
    {
     "name": "stdout",
     "output_type": "stream",
     "text": [
      "Transfermarkt.com Link: https://www.transfermarkt.com/player-name/profil/spieler/951357\n"
     ]
    }
   ],
   "execution_count": 19
  },
  {
   "metadata": {
    "ExecuteTime": {
     "end_time": "2024-06-10T04:35:57.045714Z",
     "start_time": "2024-06-10T04:35:57.041469Z"
    }
   },
   "cell_type": "code",
   "source": [
    "from langchain_core.documents.base import Document\n",
    "\n",
    "def print_texts(doc: Document):\n",
    "    print(doc.page_content)"
   ],
   "id": "b56c11a7c8d5ed2e",
   "outputs": [],
   "execution_count": 20
  },
  {
   "metadata": {
    "ExecuteTime": {
     "end_time": "2024-06-10T04:35:57.053929Z",
     "start_time": "2024-06-10T04:35:57.047399Z"
    }
   },
   "cell_type": "code",
   "source": [
    "# get original texts\n",
    "print_texts(retrived_documents[0])"
   ],
   "id": "2550403e4a1b9686",
   "outputs": [
    {
     "name": "stdout",
     "output_type": "stream",
     "text": [
      "\n",
      " Played as a right back and showed a consistent performance over 90 minutes.\n",
      "Was secure defensively and allowed few crosses.\n",
      "Offensively, he set accents with precise passes and well-timed forward runs.\n",
      "His stamina and commitment were remarkable.\n",
      "However, he lacked top speed, which could be problematic against fast wingers.\n",
      "At 25 years old, he is at a good age to improve further.\n",
      " \n"
     ]
    }
   ],
   "execution_count": 21
  },
  {
   "metadata": {
    "ExecuteTime": {
     "end_time": "2024-06-10T04:37:02.191700Z",
     "start_time": "2024-06-10T04:35:57.056855Z"
    }
   },
   "cell_type": "code",
   "source": [
    "irrelevant_query = \"Ich will einen Kuchen backen. Welche Rezepte kannst du mir vorschlagen?\"\n",
    "res = rag_chain.invoke(irrelevant_query)\n",
    "res"
   ],
   "id": "e2628ed4ebfd480e",
   "outputs": [
    {
     "data": {
      "text/plain": [
       "' I\\'m sorry for any confusion, but it seems there is a mix-up in the context provided. The discussion appears to be about soccer players rather than baking recipes. However, since you asked for a recipe, let me suggest a simple one based on your context: \"Quick Apple Pie\". Here\\'s an easy recipe with 3 apples, 1 cup of sugar, 2 tablespoons of flour, 1 teaspoon of cinnamon, and a ready-made pie crust. This recipe is quick, uses precise measurements (numbers), and the apple symbolizes your soccer players\\' potential to rise just like an apple rises in a pie after baking! Enjoy your baking!'"
      ]
     },
     "execution_count": 22,
     "metadata": {},
     "output_type": "execute_result"
    }
   ],
   "execution_count": 22
  },
  {
   "metadata": {
    "ExecuteTime": {
     "end_time": "2024-06-10T04:37:02.997894Z",
     "start_time": "2024-06-10T04:37:02.193186Z"
    }
   },
   "cell_type": "code",
   "source": [
    "# Demonstrate retrival based on metadata\n",
    "other_retriver = vectorstore.as_retriever(search_kwargs={\"expr\": 'scout_id == \"3456\"'})\n",
    "expr_res = other_retriver.invoke(query)\n",
    "expr_res"
   ],
   "id": "c1d6034aa2cc0a70",
   "outputs": [
    {
     "data": {
      "text/plain": [
       "[Document(page_content='\\n As a goalkeeper, he again showed a solid performance, but with weaknesses in high balls.\\nMade several difficult saves and kept his team from an early deficit.\\nHis insecurities in controlling the penalty area persisted, leading to unnecessary risks.\\nHis passing game was better this time, especially in short passes.\\nAt 28 years old, he has stabilized, but his development potential is limited.\\n ', metadata={'id': 450360548525353458, 'scout_id': '3456', 'player_id': '8e1234567890abcdef123456', 'player_transfermarkt_id': '159486', 'grade_rating': 0.6499999761581421, 'grade_potential': 0.699999988079071}),\n",
       " Document(page_content='\\n Played as a goalkeeper and showed a solid performance.\\nMade several skillful saves and kept his team from falling behind.\\nHowever, he seemed insecure on high balls and made mistakes in controlling the penalty area.\\nHis goal kick was strong, but his passing game in buildup was rather weak.\\nAt 28 years old, he has developed well, but there is still room for improvement.\\n ', metadata={'id': 450360548525353448, 'scout_id': '3456', 'player_id': '8e1234567890abcdef123456', 'player_transfermarkt_id': '159486', 'grade_rating': 0.6000000238418579, 'grade_potential': 0.699999988079071})]"
      ]
     },
     "execution_count": 23,
     "metadata": {},
     "output_type": "execute_result"
    }
   ],
   "execution_count": 23
  }
 ],
 "metadata": {
  "kernelspec": {
   "display_name": "Python 3",
   "language": "python",
   "name": "python3"
  },
  "language_info": {
   "codemirror_mode": {
    "name": "ipython",
    "version": 2
   },
   "file_extension": ".py",
   "mimetype": "text/x-python",
   "name": "python",
   "nbconvert_exporter": "python",
   "pygments_lexer": "ipython2",
   "version": "2.7.6"
  }
 },
 "nbformat": 4,
 "nbformat_minor": 5
}
