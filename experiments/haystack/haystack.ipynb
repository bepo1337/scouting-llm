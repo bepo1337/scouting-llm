{
 "cells": [
  {
   "cell_type": "code",
   "id": "initial_id",
   "metadata": {
    "collapsed": true,
    "ExecuteTime": {
     "end_time": "2024-06-14T11:36:39.357463Z",
     "start_time": "2024-06-14T11:36:39.353952Z"
    }
   },
   "source": [
    "import os\n",
    "from haystack import Pipeline, Document\n",
    "from haystack.utils import Secret\n",
    "from haystack.document_stores.in_memory import InMemoryDocumentStore\n",
    "from haystack.components.retrievers.in_memory import InMemoryBM25Retriever\n",
    "from haystack.components.generators import OpenAIGenerator\n",
    "from haystack.components.builders.answer_builder import AnswerBuilder\n",
    "from haystack.components.builders.prompt_builder import PromptBuilder"
   ],
   "outputs": [],
   "execution_count": 12
  },
  {
   "metadata": {},
   "cell_type": "markdown",
   "source": "",
   "id": "e50be682b224670d"
  },
  {
   "metadata": {
    "ExecuteTime": {
     "end_time": "2024-06-14T11:44:40.415495Z",
     "start_time": "2024-06-14T11:44:40.410387Z"
    }
   },
   "cell_type": "code",
   "source": [
    "document_store = InMemoryDocumentStore(embedding_similarity_function=\"cosine\")\n",
    "document_store.write_documents([\n",
    "    Document(content=\"My name is Jean and I live in Paris.\"), \n",
    "    Document(content=\"My name is Mark and I live in Berlin.\"), \n",
    "    Document(content=\"My name is Giorgio and I live in Rome.\")\n",
    "])\n"
   ],
   "id": "820052565fe7af93",
   "outputs": [
    {
     "data": {
      "text/plain": [
       "3"
      ]
     },
     "execution_count": 19,
     "metadata": {},
     "output_type": "execute_result"
    }
   ],
   "execution_count": 19
  },
  {
   "metadata": {
    "ExecuteTime": {
     "end_time": "2024-06-14T11:44:41.658886Z",
     "start_time": "2024-06-14T11:44:41.655855Z"
    }
   },
   "cell_type": "code",
   "source": [
    "# Build a RAG pipeline\n",
    "prompt_template = \"\"\"\n",
    "Given these documents, answer the question.\n",
    "Documents:\n",
    "{% for doc in documents %}\n",
    "    {{ doc.content }}\n",
    "{% endfor %}\n",
    "Question: {{query}}\n",
    "Answer:\n",
    "\"\"\""
   ],
   "id": "3d3319b089d90086",
   "outputs": [],
   "execution_count": 20
  },
  {
   "metadata": {
    "ExecuteTime": {
     "end_time": "2024-06-14T11:44:43.362313Z",
     "start_time": "2024-06-14T11:44:43.357313Z"
    }
   },
   "cell_type": "code",
   "source": [
    "retriever = InMemoryBM25Retriever(document_store=document_store)\n",
    "prompt_builder = PromptBuilder(template=prompt_template)"
   ],
   "id": "4ecfac9a61075c2f",
   "outputs": [],
   "execution_count": 21
  },
  {
   "metadata": {
    "ExecuteTime": {
     "end_time": "2024-06-14T11:44:44.764903Z",
     "start_time": "2024-06-14T11:44:44.756957Z"
    }
   },
   "cell_type": "code",
   "source": [
    "from haystack_integrations.components.generators.ollama import OllamaGenerator\n",
    "\n",
    "pipe = Pipeline()\n",
    "pipe.add_component(\"retriever\", retriever)\n",
    "pipe.add_component(\"prompt_builder\", prompt_builder)\n",
    "pipe.add_component(\"llm\", OllamaGenerator(model=\"mistral\", url=\"http://localhost:11434/api/generate\"))\n",
    "\n",
    "pipe.connect(\"retriever\", \"prompt_builder.documents\")\n",
    "pipe.connect(\"prompt_builder\", \"llm\")"
   ],
   "id": "58deb81108df5240",
   "outputs": [
    {
     "data": {
      "text/plain": [
       "<haystack.core.pipeline.pipeline.Pipeline object at 0x7fc90b2579a0>\n",
       "🚅 Components\n",
       "  - retriever: InMemoryBM25Retriever\n",
       "  - prompt_builder: PromptBuilder\n",
       "  - llm: OllamaGenerator\n",
       "🛤️ Connections\n",
       "  - retriever.documents -> prompt_builder.documents (List[Document])\n",
       "  - prompt_builder.prompt -> llm.prompt (str)"
      ]
     },
     "execution_count": 22,
     "metadata": {},
     "output_type": "execute_result"
    }
   ],
   "execution_count": 22
  },
  {
   "metadata": {
    "ExecuteTime": {
     "end_time": "2024-06-14T11:45:00.420668Z",
     "start_time": "2024-06-14T11:44:46.993919Z"
    }
   },
   "cell_type": "code",
   "source": [
    "query = \"who is mark?\"\n",
    "response = pipe.run({\"prompt_builder\": {\"query\": query}, \"retriever\": {\"query\": query}})\n",
    "print(response[\"llm\"][\"replies\"])"
   ],
   "id": "a5fc3bb401085938",
   "outputs": [
    {
     "name": "stdout",
     "output_type": "stream",
     "text": [
      "[' Mark is the person who lives in Berlin.']\n"
     ]
    }
   ],
   "execution_count": 23
  },
  {
   "metadata": {},
   "cell_type": "markdown",
   "source": " https://haystack.deepset.ai/integrations/ollama below this\n",
   "id": "393f71ab49c87400"
  },
  {
   "metadata": {
    "ExecuteTime": {
     "end_time": "2024-06-14T11:45:31.683537Z",
     "start_time": "2024-06-14T11:45:30.788037Z"
    }
   },
   "cell_type": "code",
   "source": [
    "from haystack_integrations.components.embedders.ollama.document_embedder import OllamaDocumentEmbedder\n",
    "\n",
    "\n",
    "document_store = InMemoryDocumentStore(embedding_similarity_function=\"cosine\")\n",
    "\n",
    "documents = [\n",
    "    Document(content=\"I saw a black horse running\"),\n",
    "    Document(content=\"Germany has many big cities\"),\n",
    "    Document(content=\"My name is Wolfgang and I live in Berlin\"),\n",
    "]\n",
    "\n",
    "document_embedder = OllamaDocumentEmbedder()\n",
    "documents_with_embeddings = document_embedder.run(documents)[\"documents\"]\n",
    "document_store.write_documents(documents_with_embeddings)"
   ],
   "id": "1be2cd6998e5deb3",
   "outputs": [
    {
     "name": "stderr",
     "output_type": "stream",
     "text": [
      "Calculating embeddings: 100%|██████████| 3/3 [00:00<00:00,  3.41it/s]\n"
     ]
    },
    {
     "data": {
      "text/plain": [
       "3"
      ]
     },
     "execution_count": 24,
     "metadata": {},
     "output_type": "execute_result"
    }
   ],
   "execution_count": 24
  },
  {
   "metadata": {
    "ExecuteTime": {
     "end_time": "2024-06-14T11:45:54.344916Z",
     "start_time": "2024-06-14T11:45:54.219640Z"
    }
   },
   "cell_type": "code",
   "source": [
    "from haystack_integrations.components.embedders.ollama.text_embedder import OllamaTextEmbedder\n",
    "from haystack.components.retrievers.in_memory import InMemoryEmbeddingRetriever\n",
    "\n",
    "\n",
    "query_pipeline = Pipeline()\n",
    "query_pipeline.add_component(\"text_embedder\", OllamaTextEmbedder())\n",
    "query_pipeline.add_component(\"retriever\", InMemoryEmbeddingRetriever(document_store=document_store))\n",
    "query_pipeline.connect(\"text_embedder.embedding\", \"retriever.query_embedding\")\n",
    "\n",
    "query = \"Who lives in Berlin?\"\n",
    "\n",
    "result = query_pipeline.run({\"text_embedder\": {\"text\": query}})\n",
    "\n",
    "print(result[\"retriever\"][\"documents\"][0])"
   ],
   "id": "f8e9384e671b9a6a",
   "outputs": [
    {
     "name": "stdout",
     "output_type": "stream",
     "text": [
      "Document(id=3cc62890af7a5b7efb4a29d0a1eb394e9ddd142c8c3263d08b1e17599cd4b071, content: 'Germany has many big cities', score: 0.2870055609934581)\n"
     ]
    }
   ],
   "execution_count": 25
  }
 ],
 "metadata": {
  "kernelspec": {
   "display_name": "Python 3",
   "language": "python",
   "name": "python3"
  },
  "language_info": {
   "codemirror_mode": {
    "name": "ipython",
    "version": 2
   },
   "file_extension": ".py",
   "mimetype": "text/x-python",
   "name": "python",
   "nbconvert_exporter": "python",
   "pygments_lexer": "ipython2",
   "version": "2.7.6"
  }
 },
 "nbformat": 4,
 "nbformat_minor": 5
}
