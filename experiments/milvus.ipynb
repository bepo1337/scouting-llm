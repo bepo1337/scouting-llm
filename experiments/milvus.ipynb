{
 "cells": [
  {
   "metadata": {},
   "cell_type": "markdown",
   "source": [
    "Requirements:\n",
    "- Have Milvus running locally on port 19530\n",
    "- Libraries: pymilvus, numpy"
   ],
   "id": "35787fb6039964cd"
  },
  {
   "metadata": {
    "ExecuteTime": {
     "end_time": "2024-05-31T12:40:01.781313Z",
     "start_time": "2024-05-31T12:40:01.037717Z"
    }
   },
   "cell_type": "code",
   "source": [
    "import time\n",
    "import numpy as np\n",
    "from pymilvus import (\n",
    "    connections,\n",
    "    utility,\n",
    "    FieldSchema, CollectionSchema, DataType,\n",
    "    Collection,\n",
    ")"
   ],
   "id": "7e93f591ee7047f8",
   "execution_count": 1,
   "outputs": []
  },
  {
   "cell_type": "code",
   "id": "initial_id",
   "metadata": {
    "collapsed": true,
    "ExecuteTime": {
     "end_time": "2024-05-31T12:40:06.831253Z",
     "start_time": "2024-05-31T12:40:06.795651Z"
    }
   },
   "source": [
    "fmt = \"\\n=== {:30} ===\\n\"\n",
    "search_latency_fmt = \"search latency = {:.4f}s\"\n",
    "\n",
    "print(fmt.format(\"start connecting to Milvus\"))\n",
    "connections.connect(\"default\", host=\"localhost\", port=\"19530\")"
   ],
   "execution_count": 2,
   "outputs": []
  },
  {
   "metadata": {
    "ExecuteTime": {
     "end_time": "2024-05-31T13:15:15.705081Z",
     "start_time": "2024-05-31T13:15:15.699959Z"
    }
   },
   "cell_type": "code",
   "source": [
    "# check if collection exists\n",
    "collection_name = \"scouting\"\n",
    "hasScoutingCollection = utility.has_collection(collection_name)\n",
    "print(f\"Does collection scouting exist in Milvus: {hasScoutingCollection}\")"
   ],
   "id": "2f195c77428f3632",
   "execution_count": 23,
   "outputs": []
  },
  {
   "metadata": {
    "ExecuteTime": {
     "end_time": "2024-05-31T13:24:14.161304Z",
     "start_time": "2024-05-31T13:24:14.137294Z"
    }
   },
   "cell_type": "code",
   "source": [
    "# create collection\n",
    "dim=8\n",
    "fields = [\n",
    "    FieldSchema(name=\"pk\", dtype=DataType.VARCHAR, is_primary=True, auto_id=False, max_length=100), #pk = primary key\n",
    "    FieldSchema(name=\"report_text\", dtype=DataType.VARCHAR, max_length=1000),\n",
    "    FieldSchema(name=\"report_length\", dtype=DataType.INT16),\n",
    "    FieldSchema(name=\"embeddings\", dtype=DataType.FLOAT_VECTOR, dim=dim)\n",
    "]\n",
    "\n",
    "schema = CollectionSchema(fields, \"Scouting report vectors\")\n",
    "print(fmt.format(\"Creating collection 'scouting'\"))\n",
    "scouting_collection = Collection(collection_name, schema, consistency_level=\"Strong\")"
   ],
   "id": "85b9c55fb7513953",
   "execution_count": 35,
   "outputs": []
  },
  {
   "metadata": {
    "ExecuteTime": {
     "end_time": "2024-05-31T13:24:20.255366Z",
     "start_time": "2024-05-31T13:24:17.219551Z"
    }
   },
   "cell_type": "code",
   "source": [
    "#insert new reports\n",
    "rng = np.random.default_rng(seed=19530)\n",
    "reports = [\n",
    "    [\"1\",\"2\", \"3\"],\n",
    "    [\"First report\", \"second report\", \"third report\"],\n",
    "    [1, 50, 1337],\n",
    "    rng.random((3, dim)) # create random vectors for now for embedding\n",
    "]\n",
    "\n",
    "insert_result = scouting_collection.insert(reports)\n",
    "scouting_collection.flush()\n",
    "print(f\"Number of reports in Milvus: {scouting_collection.num_entities}\")"
   ],
   "id": "247bacdf74a2d1a2",
   "execution_count": 36,
   "outputs": []
  },
  {
   "metadata": {
    "ExecuteTime": {
     "end_time": "2024-05-31T13:24:21.362962Z",
     "start_time": "2024-05-31T13:24:20.845373Z"
    }
   },
   "cell_type": "code",
   "source": [
    "# create index\n",
    "print(fmt.format(\"Start Creating index IVF_FLAT\"))\n",
    "index = {\n",
    "    \"index_type\": \"IVF_FLAT\", # we cluster our data and only compare our query to the elements of the nearest cluster center https://milvus.io/docs/index.md#IVFFLAT\n",
    "    \"metric_type\": \"L2\", #euclidean distance, could also use cosine here https://milvus.io/docs/metric.md\n",
    "    \"params\": {\"nlist\": 128}, #nlist -> number of clusters\n",
    "}\n",
    "\n",
    "scouting_collection.create_index(\"embeddings\", index)"
   ],
   "id": "c7e0bcb9ca435033",
   "execution_count": 37,
   "outputs": []
  },
  {
   "metadata": {
    "ExecuteTime": {
     "end_time": "2024-05-31T13:24:36.232401Z",
     "start_time": "2024-05-31T13:24:32.690721Z"
    }
   },
   "cell_type": "code",
   "source": [
    "#need to load data into memory before searching\n",
    "print(fmt.format(\"Start loading\"))\n",
    "scouting_collection.load() "
   ],
   "id": "2ebaa8e4d3336949",
   "execution_count": 39,
   "outputs": []
  },
  {
   "metadata": {
    "ExecuteTime": {
     "end_time": "2024-05-31T13:16:29.307580Z",
     "start_time": "2024-05-31T13:16:29.099631Z"
    }
   },
   "cell_type": "code",
   "source": [
    "# search based on vector similarity\n",
    "print(fmt.format(\"Search on vector similarity\"))\n",
    "vectors_to_search = reports[-1][0:1]\n",
    "print(vectors_to_search)\n",
    "search_params = {\n",
    "    \"metric_type\": \"L2\",\n",
    "    \"params\": {\"nprobe\": 10}, #number of clusters to search\n",
    "}\n",
    "\n",
    "start_time = time.time()\n",
    "result = scouting_collection.search(vectors_to_search, \"embeddings\", search_params, limit=2, output_fields=[\"pk\", \"report_length\",\"report_text\"])\n",
    "end_time = time.time()\n",
    "\n",
    "for hits in result:\n",
    "    for hit in hits:\n",
    "        print(f\"hit: {hit}, scouting report text field: {hit.entity.get('report_text')}\")\n",
    "print(search_latency_fmt.format(end_time - start_time))"
   ],
   "id": "9fc7463c8f6e5233",
   "execution_count": 28,
   "outputs": []
  },
  {
   "metadata": {
    "ExecuteTime": {
     "end_time": "2024-05-31T13:17:27.906478Z",
     "start_time": "2024-05-31T13:17:27.540581Z"
    }
   },
   "cell_type": "code",
   "source": [
    "# search based on scalar filtering (ie our meta data like names, ids...)\n",
    "print(fmt.format(\"Start querying with `report_length > 30`\"))\n",
    "start_time = time.time()\n",
    "result = scouting_collection.query(expr=\"report_length > 30\", output_fields=[\"pk\", \"report_text\", \"embeddings\"])\n",
    "end_time = time.time()\n",
    "\n",
    "print(f\"query result:\\n-{result}\")\n",
    "print(search_latency_fmt.format(end_time - start_time))"
   ],
   "id": "d4a6f8d6dc8643af",
   "execution_count": 30,
   "outputs": []
  },
  {
   "metadata": {
    "ExecuteTime": {
     "end_time": "2024-05-31T13:20:03.906975Z",
     "start_time": "2024-05-31T13:20:03.675398Z"
    }
   },
   "cell_type": "code",
   "source": [
    "# hybrid search\n",
    "print(fmt.format(\"Start hybrid searching with `report_length > 30`\"))\n",
    "\n",
    "start_time = time.time()\n",
    "result = scouting_collection.search(vectors_to_search, \"embeddings\", search_params, limit=2, expr=\"report_length > 30\", output_fields=[\"pk\", \"report_text\"])\n",
    "end_time = time.time()\n",
    "\n",
    "for hits in result:\n",
    "    for hit in hits:\n",
    "        print(f\"hit: {hit}, report_text field: {hit.entity.get('report_text')}\")\n",
    "print(search_latency_fmt.format(end_time - start_time))"
   ],
   "id": "12739a19f1e8bb2",
   "execution_count": 31,
   "outputs": []
  },
  {
   "metadata": {
    "ExecuteTime": {
     "end_time": "2024-05-31T13:25:48.707817Z",
     "start_time": "2024-05-31T13:25:48.236736Z"
    }
   },
   "cell_type": "code",
   "source": [
    "# delete entities\n",
    "ids = [1] # delete report with id 1\n",
    "expression = f'pk in [\"{ids[0]}\"]'\n",
    "\n",
    "result = scouting_collection.query(expr=expression, output_fields=[\"pk\", \"report_text\"])\n",
    "print(f\"query before delete by expr=`{expression}` -> result: \\n-{result}\\n\")\n",
    "\n",
    "scouting_collection.delete(expression)\n",
    "\n",
    "result = scouting_collection.query(expr=expression, output_fields=[\"pk\", \"report_text\"])\n",
    "print(f\"query after delete by expr=`{expression}` -> result: {result}\\n\")"
   ],
   "id": "71b4e9514042dd7d",
   "execution_count": 42,
   "outputs": []
  },
  {
   "metadata": {
    "ExecuteTime": {
     "end_time": "2024-05-31T13:26:04.624962Z",
     "start_time": "2024-05-31T13:26:04.614499Z"
    }
   },
   "cell_type": "code",
   "source": [
    "# drop collection\n",
    "print(fmt.format(\"Drop collection\"))\n",
    "utility.drop_collection(collection_name)"
   ],
   "id": "7f0e143c31d636c8",
   "execution_count": 43,
   "outputs": []
  }
 ],
 "metadata": {
  "kernelspec": {
   "display_name": "Python 3",
   "language": "python",
   "name": "python3"
  },
  "language_info": {
   "codemirror_mode": {
    "name": "ipython",
    "version": 2
   },
   "file_extension": ".py",
   "mimetype": "text/x-python",
   "name": "python",
   "nbconvert_exporter": "python",
   "pygments_lexer": "ipython2",
   "version": "2.7.6"
  }
 },
 "nbformat": 4,
 "nbformat_minor": 5
}
