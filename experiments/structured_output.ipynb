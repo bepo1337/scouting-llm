{
 "cells": [
  {
   "cell_type": "code",
   "id": "initial_id",
   "metadata": {
    "collapsed": true,
    "ExecuteTime": {
     "end_time": "2024-06-13T09:52:52.374481Z",
     "start_time": "2024-06-13T09:52:52.371137Z"
    }
   },
   "source": [
    "youtube_template_string = \"\"\"\n",
    "You are an assistant in football (soccer) scouting, and provides answers to questions by using fact based information.\n",
    "Use the following information to provide a concise answer to the question enclosed in <question> tags.\n",
    "If you don't know the answer from the context, just say that you don't know\n",
    "\n",
    "<context>\n",
    "{context}\n",
    "</context>\n",
    "\n",
    "<question>\n",
    "{question}\n",
    "</question>\n",
    "\n",
    "{format_instruction}\n",
    "Do this format for every unique player id.\n",
    "\"\"\""
   ],
   "outputs": [],
   "execution_count": 12
  },
  {
   "metadata": {
    "ExecuteTime": {
     "end_time": "2024-06-13T09:52:53.785506Z",
     "start_time": "2024-06-13T09:52:53.780153Z"
    }
   },
   "cell_type": "code",
   "source": [
    "from langchain.output_parsers import ResponseSchema\n",
    "from langchain.output_parsers import StructuredOutputParser\n",
    "\n",
    "player_id_schema = ResponseSchema(name=\"player_id\",\n",
    "                                  description=\"ID of the player that the report is about which is an integer between 0 and 99999999\")\n",
    "\n",
    "report_summary_schema = ResponseSchema(name=\"report_summary\",\n",
    "                                  description=\"Summary of the report content about the player\")\n",
    "\n",
    "response_schemas = [player_id_schema, report_summary_schema]\n",
    "\n",
    "output_parser = StructuredOutputParser.from_response_schemas(response_schemas)\n",
    "format_instruction = output_parser.get_format_instructions()\n",
    "\n",
    "print(format_instruction)"
   ],
   "id": "a07bc026db559f5",
   "outputs": [
    {
     "name": "stdout",
     "output_type": "stream",
     "text": [
      "The output should be a markdown code snippet formatted in the following schema, including the leading and trailing \"```json\" and \"```\":\n",
      "\n",
      "```json\n",
      "{\n",
      "\t\"player_id\": string  // ID of the player that the report is about which is an integer between 0 and 99999999\n",
      "\t\"report_summary\": string  // Summary of the report content about the player\n",
      "}\n",
      "```\n"
     ]
    }
   ],
   "execution_count": 13
  },
  {
   "metadata": {},
   "cell_type": "code",
   "outputs": [],
   "execution_count": null,
   "source": "",
   "id": "2578fc863676d776"
  },
  {
   "metadata": {
    "ExecuteTime": {
     "end_time": "2024-06-13T09:57:32.536221Z",
     "start_time": "2024-06-13T09:57:32.520314Z"
    }
   },
   "cell_type": "code",
   "source": [
    "from langchain_community.embeddings import OllamaEmbeddings\n",
    "from langchain_community.llms import Ollama\n",
    "from langchain_community.vectorstores import Milvus\n",
    "\n",
    "\n",
    "EMBEDDING_MODEL = \"nomic-embed-text\"\n",
    "MODEL = \"mistral\"\n",
    "\n",
    "model = Ollama(model=MODEL)\n",
    "embeddings = OllamaEmbeddings(model=EMBEDDING_MODEL)\n",
    "\n",
    "COLLECTION_NAME = \"scouting\"\n",
    "VECTOR_STORE_URI = \"http://localhost:19530\"\n",
    "\n",
    "\n",
    "connection_args = {'uri': VECTOR_STORE_URI}\n",
    "vectorstore = Milvus(\n",
    "    embedding_function=embeddings,\n",
    "    connection_args=connection_args,\n",
    "    collection_name=COLLECTION_NAME,\n",
    "    vector_field=\"embeddings\",\n",
    "    primary_field=\"id\",\n",
    "    auto_id=True\n",
    ")\n",
    "\n",
    "retriever = vectorstore.as_retriever(search_kwargs={'k': 3})\n",
    "\n",
    "##### Dont have to edit anything below this to change models\n",
    "def format_docs(docs):\n",
    "    returnString = \"\\n\\n\".join(f\"Player ID: {doc.metadata['player_transfermarkt_id']}, Report-Content: \" + doc.page_content for doc in docs)\n",
    "    print(returnString)\n",
    "    return returnString\n"
   ],
   "id": "565e66b2ec8b4ed7",
   "outputs": [],
   "execution_count": 21
  },
  {
   "metadata": {
    "ExecuteTime": {
     "end_time": "2024-06-13T09:57:36.088807Z",
     "start_time": "2024-06-13T09:57:35.693048Z"
    }
   },
   "cell_type": "code",
   "source": [
    "from langchain.prompts import ChatPromptTemplate\n",
    "\n",
    "prompt = ChatPromptTemplate.from_template(template=youtube_template_string)\n",
    "\n",
    "query = \"I need a central defender who's very secure defensively\"\n",
    "\n",
    "retrieved_documents = retriever.invoke(query)\n",
    "\n",
    "formatted_docs = format_docs(retrieved_documents)\n",
    "\n",
    "messages = prompt.format_messages(context=formatted_docs, question=query, format_instruction=format_instruction)\n",
    "\n",
    "messages"
   ],
   "id": "a4298ad7a1d15044",
   "outputs": [
    {
     "name": "stdout",
     "output_type": "stream",
     "text": [
      "Player ID: 159687, Report-Content: \n",
      " Played as a central defender and showed consistent performance in defense.\n",
      "Was again dominant in aerial duels and allowed few chances.\n",
      "His build-up play was secure, but he took no risks.\n",
      "Showed good anticipation and was often faster than his opponent.\n",
      "Speed remained an average aspect of his abilities.\n",
      "At 30 years old, he remains a solid option in defense, but without great potential for progress.\n",
      " \n",
      "\n",
      "Player ID: 159687, Report-Content: \n",
      " As a central defender, he showed a strong physical presence.\n",
      "Was dominant in aerial duels and cleared many dangerous situations.\n",
      "In the build-up play, he was solid but not exceptionally creative.\n",
      "Showed good anticipation and was often a step ahead of his opponent.\n",
      "His speed was average, which could be problematic against fast forwards.\n",
      "At 30 years old, probably not a long-term solution.\n",
      " \n",
      "\n",
      "Player ID: 159264, Report-Content: \n",
      " Played as a central defender and showed a strong performance.\n",
      "Was very secure defensively and allowed few scoring chances.\n",
      "His positioning was excellent and he won many duels.\n",
      "In the build-up play, he was solid but not creative.\n",
      "His heading ability was a plus, especially in set pieces.\n",
      "At 28 years old, he has developed well but has little potential for big leaps.\n",
      " \n"
     ]
    },
    {
     "data": {
      "text/plain": [
       "[HumanMessage(content='\\nYou are an assistant in football (soccer) scouting, and provides answers to questions by using fact based information.\\nUse the following information to provide a concise answer to the question enclosed in <question> tags.\\nIf you don\\'t know the answer from the context, just say that you don\\'t know\\n\\n<context>\\nPlayer ID: 159687, Report-Content: \\n Played as a central defender and showed consistent performance in defense.\\nWas again dominant in aerial duels and allowed few chances.\\nHis build-up play was secure, but he took no risks.\\nShowed good anticipation and was often faster than his opponent.\\nSpeed remained an average aspect of his abilities.\\nAt 30 years old, he remains a solid option in defense, but without great potential for progress.\\n \\n\\nPlayer ID: 159687, Report-Content: \\n As a central defender, he showed a strong physical presence.\\nWas dominant in aerial duels and cleared many dangerous situations.\\nIn the build-up play, he was solid but not exceptionally creative.\\nShowed good anticipation and was often a step ahead of his opponent.\\nHis speed was average, which could be problematic against fast forwards.\\nAt 30 years old, probably not a long-term solution.\\n \\n\\nPlayer ID: 159264, Report-Content: \\n Played as a central defender and showed a strong performance.\\nWas very secure defensively and allowed few scoring chances.\\nHis positioning was excellent and he won many duels.\\nIn the build-up play, he was solid but not creative.\\nHis heading ability was a plus, especially in set pieces.\\nAt 28 years old, he has developed well but has little potential for big leaps.\\n \\n</context>\\n\\n<question>\\nI need a central defender who\\'s very secure defensively\\n</question>\\n\\nThe output should be a markdown code snippet formatted in the following schema, including the leading and trailing \"```json\" and \"```\":\\n\\n```json\\n{\\n\\t\"player_id\": string  // ID of the player that the report is about which is an integer between 0 and 99999999\\n\\t\"report_summary\": string  // Summary of the report content about the player\\n}\\n```\\nDo this format for every unique player id.\\n')]"
      ]
     },
     "execution_count": 22,
     "metadata": {},
     "output_type": "execute_result"
    }
   ],
   "execution_count": 22
  },
  {
   "metadata": {
    "ExecuteTime": {
     "end_time": "2024-06-13T09:53:23.740825Z",
     "start_time": "2024-06-13T09:53:23.737293Z"
    }
   },
   "cell_type": "code",
   "source": "print(messages[0].content)",
   "id": "ae18ad17e65c1fde",
   "outputs": [
    {
     "name": "stdout",
     "output_type": "stream",
     "text": [
      "\n",
      "You are an assistant in football (soccer) scouting, and provides answers to questions by using fact based information.\n",
      "Use the following information to provide a concise answer to the question enclosed in <question> tags.\n",
      "If you don't know the answer from the context, just say that you don't know\n",
      "\n",
      "<context>\n",
      "Player ID: 951357, Report-Content: \n",
      " Played as a right back and showed a consistent performance over 90 minutes.\n",
      "Was secure defensively and allowed few crosses.\n",
      "Offensively, he set accents with precise passes and well-timed forward runs.\n",
      "His stamina and commitment were remarkable.\n",
      "However, he lacked top speed, which could be problematic against fast wingers.\n",
      "At 25 years old, he is at a good age to improve further.\n",
      " \n",
      "\n",
      "Player ID: 159753, Report-Content: \n",
      " Played as a left back again with impressive speed and strong defensive positioning.\n",
      "Had difficulties in ball handling under pressure, but was offensively dangerous with some good crosses.\n",
      "His stamina allows him to perform consistently over 90 minutes.\n",
      "More precision in long passes would be desirable.\n",
      "At 24 years old, still a player with promising potential.\n",
      " \n",
      "</context>\n",
      "\n",
      "<question>\n",
      "I need a right-back who can play consistently throughout the game. He should also be good going forward\n",
      "</question>\n",
      "\n",
      "The output should be a markdown code snippet formatted in the following schema, including the leading and trailing \"```json\" and \"```\":\n",
      "\n",
      "```json\n",
      "{\n",
      "\t\"player_id\": string  // ID of the player that the report is about which is an integer between 0 and 99999999\n",
      "\t\"report_summary\": string  // Summary of the report content about the player\n",
      "}\n",
      "```\n",
      "Do this format for every unique player id.\n",
      "\n"
     ]
    }
   ],
   "execution_count": 17
  },
  {
   "metadata": {
    "ExecuteTime": {
     "end_time": "2024-06-13T09:59:19.875620Z",
     "start_time": "2024-06-13T09:58:01.136327Z"
    }
   },
   "cell_type": "code",
   "source": [
    "response = model.invoke(messages)\n",
    "\n",
    "response"
   ],
   "id": "2c9ebd10f70fa91e",
   "outputs": [
    {
     "data": {
      "text/plain": [
       "' ```json\\n{\\n\\t\"player_id\": \"159264\",\\n\\t\"report_summary\": \"Very secure defensively, excellent positioning and wins many duels.\"\\n}\\n```'"
      ]
     },
     "execution_count": 23,
     "metadata": {},
     "output_type": "execute_result"
    }
   ],
   "execution_count": 23
  },
  {
   "metadata": {},
   "cell_type": "code",
   "outputs": [],
   "execution_count": null,
   "source": "",
   "id": "b73bccf541de8d62"
  }
 ],
 "metadata": {
  "kernelspec": {
   "display_name": "Python 3",
   "language": "python",
   "name": "python3"
  },
  "language_info": {
   "codemirror_mode": {
    "name": "ipython",
    "version": 2
   },
   "file_extension": ".py",
   "mimetype": "text/x-python",
   "name": "python",
   "nbconvert_exporter": "python",
   "pygments_lexer": "ipython2",
   "version": "2.7.6"
  }
 },
 "nbformat": 4,
 "nbformat_minor": 5
}
