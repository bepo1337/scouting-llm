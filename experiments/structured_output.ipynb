{
 "cells": [
  {
   "cell_type": "code",
   "id": "initial_id",
   "metadata": {
    "collapsed": true,
    "ExecuteTime": {
     "end_time": "2024-06-13T10:45:45.849162Z",
     "start_time": "2024-06-13T10:45:45.842346Z"
    }
   },
   "source": [
    "youtube_template_string = \"\"\"\n",
    "You are an assistant in football (soccer) scouting, and provides answers to questions by using fact based information.\n",
    "Use the following information to provide a concise answer to the question enclosed in <question> tags.\n",
    "If you don't know the answer from the context, just say that you don't know\n",
    "\n",
    "<context>\n",
    "{context}\n",
    "</context>\n",
    "\n",
    "<question>\n",
    "{question}\n",
    "</question>\n",
    "\n",
    "{format_instruction}\n",
    "Do this format for every unique player id.\n",
    "\"\"\""
   ],
   "execution_count": 24,
   "outputs": []
  },
  {
   "metadata": {
    "ExecuteTime": {
     "end_time": "2024-06-13T10:45:48.953859Z",
     "start_time": "2024-06-13T10:45:48.947287Z"
    }
   },
   "cell_type": "code",
   "source": [
    "from langchain.output_parsers import ResponseSchema\n",
    "from langchain.output_parsers import StructuredOutputParser\n",
    "\n",
    "player_id_schema = ResponseSchema(name=\"player_id\",\n",
    "                                  description=\"ID of the player that the report is about which is an integer between 0 and 99999999\")\n",
    "\n",
    "report_summary_schema = ResponseSchema(name=\"report_summary\",\n",
    "                                  description=\"Summary of the report content about the player\")\n",
    "\n",
    "response_schemas = [player_id_schema, report_summary_schema]\n",
    "\n",
    "output_parser = StructuredOutputParser.from_response_schemas(response_schemas)\n",
    "format_instruction = output_parser.get_format_instructions()\n",
    "\n",
    "print(format_instruction)"
   ],
   "id": "a07bc026db559f5",
   "execution_count": 25,
   "outputs": []
  },
  {
   "metadata": {},
   "cell_type": "code",
   "source": "",
   "id": "2578fc863676d776",
   "execution_count": null,
   "outputs": []
  },
  {
   "metadata": {},
   "cell_type": "code",
   "source": [
    "from langchain_community.embeddings import OllamaEmbeddings\n",
    "from langchain_community.llms import Ollama\n",
    "from langchain_community.vectorstores import Milvus\n",
    "\n",
    "\n",
    "EMBEDDING_MODEL = \"nomic-embed-text\"\n",
    "MODEL = \"mistral\"\n",
    "\n",
    "model = Ollama(model=MODEL)\n",
    "embeddings = OllamaEmbeddings(model=EMBEDDING_MODEL)\n",
    "\n",
    "COLLECTION_NAME = \"scouting\"\n",
    "VECTOR_STORE_URI = \"http://localhost:19530\"\n",
    "\n",
    "\n",
    "connection_args = {'uri': VECTOR_STORE_URI}\n",
    "vectorstore = Milvus(\n",
    "    embedding_function=embeddings,\n",
    "    connection_args=connection_args,\n",
    "    collection_name=COLLECTION_NAME,\n",
    "    vector_field=\"embeddings\",\n",
    "    primary_field=\"id\",\n",
    "    auto_id=True\n",
    ")\n",
    "\n",
    "retriever = vectorstore.as_retriever(search_kwargs={'k': 3})\n",
    "\n",
    "##### Dont have to edit anything below this to change models\n",
    "def format_docs(docs):\n",
    "    returnString = \"\\n\\n\".join(f\"Player ID: {doc.metadata['player_transfermarkt_id']}, Report-Content: \" + doc.page_content for doc in docs)\n",
    "    print(returnString)\n",
    "    return returnString\n"
   ],
   "id": "565e66b2ec8b4ed7",
   "execution_count": null,
   "outputs": []
  },
  {
   "metadata": {},
   "cell_type": "code",
   "source": [
    "from langchain.prompts import ChatPromptTemplate\n",
    "\n",
    "prompt = ChatPromptTemplate.from_template(template=youtube_template_string)\n",
    "\n",
    "query = \"I need a central defender who's very secure defensively\"\n",
    "\n",
    "retrieved_documents = retriever.invoke(query)\n",
    "\n",
    "formatted_docs = format_docs(retrieved_documents)\n",
    "\n",
    "messages = prompt.format_messages(context=formatted_docs, question=query, format_instruction=format_instruction)\n",
    "\n",
    "messages"
   ],
   "id": "a4298ad7a1d15044",
   "execution_count": null,
   "outputs": []
  },
  {
   "metadata": {},
   "cell_type": "code",
   "source": "print(messages[0].content)",
   "id": "ae18ad17e65c1fde",
   "execution_count": null,
   "outputs": []
  },
  {
   "metadata": {},
   "cell_type": "code",
   "source": [
    "response = model.invoke(messages)\n",
    "\n",
    "response"
   ],
   "id": "2c9ebd10f70fa91e",
   "execution_count": null,
   "outputs": []
  },
  {
   "metadata": {},
   "cell_type": "code",
   "source": "",
   "id": "b73bccf541de8d62",
   "execution_count": null,
   "outputs": []
  }
 ],
 "metadata": {
  "kernelspec": {
   "display_name": "Python 3",
   "language": "python",
   "name": "python3"
  },
  "language_info": {
   "codemirror_mode": {
    "name": "ipython",
    "version": 2
   },
   "file_extension": ".py",
   "mimetype": "text/x-python",
   "name": "python",
   "nbconvert_exporter": "python",
   "pygments_lexer": "ipython2",
   "version": "2.7.6"
  }
 },
 "nbformat": 4,
 "nbformat_minor": 5
}
