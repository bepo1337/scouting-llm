{
 "cells": [
  {
   "cell_type": "code",
   "id": "initial_id",
   "metadata": {
    "collapsed": true,
    "ExecuteTime": {
     "end_time": "2024-06-13T11:19:13.953909Z",
     "start_time": "2024-06-13T11:19:13.924126Z"
    }
   },
   "source": [
    "import instructor\n",
    "from pydantic import BaseModel, Field\n",
    "from typing import List\n",
    "from openai import OpenAI\n",
    "\n",
    "class PlayerResponse(BaseModel):\n",
    "    player_id: int = Field(description=\"ID of the player\")\n",
    "    report_summary: str = Field(name=\"report_summary\", description=\"Summary of the reports that have the same player id\")\n",
    "    \n",
    "\n",
    "class ListPlayerResponse(BaseModel):\n",
    "    list: List[PlayerResponse]\n",
    "\n",
    "client = instructor.from_openai(\n",
    "    OpenAI(\n",
    "        base_url=\"http://localhost:11434/v1\",\n",
    "        api_key=\"ollama\"\n",
    "    ),\n",
    "    mode=instructor.Mode.JSON\n",
    ")    \n"
   ],
   "outputs": [],
   "execution_count": 12
  },
  {
   "metadata": {
    "ExecuteTime": {
     "end_time": "2024-06-13T11:21:22.302469Z",
     "start_time": "2024-06-13T11:19:15.801814Z"
    }
   },
   "cell_type": "code",
   "source": [
    "resp = client.chat.completions.create(\n",
    "    model=\"mistral\",\n",
    "    messages=[{\n",
    "        \"role\": \"user\",\n",
    "        \"content\": \"Player-ID: 1337, Report: Played as an attacking winger and used his speed and technique excellently. His dribbling led to several dangerous situations, although he again showed weaknesses defensively. He set up a goal with a precise cross and scored one himself after a solo run. His creativity and game vision were at a high level. At 23 years old, he still has a lot of potential to rise. \\n\\n Player-ID: 888, Report:  As a defensive midfielder, he again showed a disciplined and strong performance. Won many important duels in midfield and effectively stopped opponent attacks.His passing game was precise and he showed excellent vision. Offensively, he set no accents but focused on ball distribution. Showed weaknesses in fast counterattacks by the opponent. At 27 years old, he is at the peak of his footballing age and a reliable force in midfield.\",\n",
    "    }],\n",
    "    response_model=ListPlayerResponse,\n",
    ")\n",
    "\n",
    "print(resp.model_dump_json(indent=2))"
   ],
   "id": "622bc98fd4631206",
   "outputs": [
    {
     "name": "stdout",
     "output_type": "stream",
     "text": [
      "{\n",
      "  \"list\": [\n",
      "    {\n",
      "      \"player_id\": 1337,\n",
      "      \"report_summary\": \"Played as an attacking winger and used his speed and technique excellently. His dribbling led to several dangerous situations, although he again showed weaknesses defensively. He set up a goal with a precise cross and scored one himself after a solo run. His creativity and game vision were at a high level. At 23 years old, he still has a lot of potential to rise.\"\n",
      "    },\n",
      "    {\n",
      "      \"player_id\": 888,\n",
      "      \"report_summary\": \"As a defensive midfielder, he again showed a disciplined and strong performance. Won many important duels in midfield and effectively stopped opponent attacks. His passing game was precise and he showed excellent vision. Offensively, he set no accents but focused on ball distribution. Showed weaknesses in fast counterattacks by the opponent. At 27 years old, he is at the peak of his footballing age and a reliable force in midfield.\"\n",
      "    }\n",
      "  ]\n",
      "}\n"
     ]
    }
   ],
   "execution_count": 13
  }
 ],
 "metadata": {
  "kernelspec": {
   "display_name": "Python 3",
   "language": "python",
   "name": "python3"
  },
  "language_info": {
   "codemirror_mode": {
    "name": "ipython",
    "version": 2
   },
   "file_extension": ".py",
   "mimetype": "text/x-python",
   "name": "python",
   "nbconvert_exporter": "python",
   "pygments_lexer": "ipython2",
   "version": "2.7.6"
  }
 },
 "nbformat": 4,
 "nbformat_minor": 5
}
