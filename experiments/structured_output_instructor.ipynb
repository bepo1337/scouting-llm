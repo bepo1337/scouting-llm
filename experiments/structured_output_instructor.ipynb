{
 "cells": [
  {
   "cell_type": "code",
   "id": "initial_id",
   "metadata": {
    "collapsed": true,
    "ExecuteTime": {
     "end_time": "2024-06-13T11:12:44.222439Z",
     "start_time": "2024-06-13T11:12:44.191640Z"
    }
   },
   "source": [
    "import instructor\n",
    "from pydantic import BaseModel, Field\n",
    "from typing import List\n",
    "from openai import OpenAI\n",
    "\n",
    "class GeneralResponse(BaseModel):\n",
    "    player_id: int = Field(description=\"ID of the player\")\n",
    "    report_summary: str = Field(name=\"report_summary\", description=\"Summary of the reports that have the same player id\")\n",
    "    \n",
    "\n",
    "client = instructor.from_openai(\n",
    "    OpenAI(\n",
    "        base_url=\"http://localhost:11434/v1\",\n",
    "        api_key=\"ollama\"\n",
    "    ),\n",
    "    mode=instructor.Mode.JSON\n",
    ")    \n"
   ],
   "outputs": [],
   "execution_count": 7
  },
  {
   "metadata": {
    "ExecuteTime": {
     "end_time": "2024-06-13T11:15:05.222110Z",
     "start_time": "2024-06-13T11:14:40.236741Z"
    }
   },
   "cell_type": "code",
   "source": [
    "resp = client.chat.completions.create(\n",
    "    model=\"mistral\",\n",
    "    messages=[{\n",
    "        \"role\": \"user\",\n",
    "        \"content\": \"Played as an attacking winger and used his speed and technique excellently. His dribbling led to several dangerous situations, although he again showed weaknesses defensively. He set up a goal with a precise cross and scored one himself after a solo run. His creativity and game vision were at a high level. At 23 years old, he still has a lot of potential to rise.\",\n",
    "    }],\n",
    "    response_model=GeneralResponse,\n",
    ")\n",
    "\n",
    "print(resp.model_dump_json(indent=2))"
   ],
   "id": "622bc98fd4631206",
   "outputs": [
    {
     "name": "stdout",
     "output_type": "stream",
     "text": [
      "{\n",
      "  \"player_id\": 123456,\n",
      "  \"report_summary\": \"Played as an attacking winger, showcased speed and technique. Dribbling led to dangerous situations but showed weaknesses defensively. Set up a goal with a precise cross and scored one himself after a solo run. High creativity and game vision. Potential for further growth at 23 years old.\"\n",
      "}\n"
     ]
    }
   ],
   "execution_count": 9
  }
 ],
 "metadata": {
  "kernelspec": {
   "display_name": "Python 3",
   "language": "python",
   "name": "python3"
  },
  "language_info": {
   "codemirror_mode": {
    "name": "ipython",
    "version": 2
   },
   "file_extension": ".py",
   "mimetype": "text/x-python",
   "name": "python",
   "nbconvert_exporter": "python",
   "pygments_lexer": "ipython2",
   "version": "2.7.6"
  }
 },
 "nbformat": 4,
 "nbformat_minor": 5
}
