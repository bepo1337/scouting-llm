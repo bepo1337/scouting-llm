{
 "cells": [
  {
   "metadata": {},
   "cell_type": "markdown",
   "source": [
    "Resources used:\n",
    "- https://python.useinstructor.com/hub/ollama/\n",
    "- https://docs.pydantic.dev/latest/concepts/fields/"
   ],
   "id": "a970c52cbbfe360f"
  },
  {
   "cell_type": "code",
   "id": "initial_id",
   "metadata": {
    "collapsed": true,
    "ExecuteTime": {
     "end_time": "2024-06-13T12:23:34.062964Z",
     "start_time": "2024-06-13T12:23:34.021658Z"
    }
   },
   "source": [
    "import instructor\n",
    "from pydantic import BaseModel, Field\n",
    "from typing import List\n",
    "from openai import OpenAI\n",
    "\n",
    "# Define how the answer per player should look like\n",
    "class PlayerResponse(BaseModel):\n",
    "    player_id: int = Field(description=\"ID of the player\")\n",
    "    report_summary: str = Field(name=\"report_summary\", description=\"Summary of the reports that have the same player id\")\n",
    "    \n",
    "    \n",
    "# We want to get a list of players\n",
    "class ListPlayerResponse(BaseModel):\n",
    "    list: List[PlayerResponse]\n",
    "\n",
    "\n",
    "client = instructor.from_openai(\n",
    "    OpenAI(\n",
    "        # default port of ollama\n",
    "        base_url=\"http://localhost:11434/v1\",\n",
    "        # need to specify this, otherwise we get an error from the library\n",
    "        api_key=\"ollama\"\n",
    "    ),\n",
    "    mode=instructor.Mode.JSON\n",
    ")    \n"
   ],
   "outputs": [],
   "execution_count": 17
  },
  {
   "metadata": {
    "ExecuteTime": {
     "end_time": "2024-06-13T12:26:57.651269Z",
     "start_time": "2024-06-13T12:26:57.647645Z"
    }
   },
   "cell_type": "code",
   "source": [
    "prompt = \"\"\"You are an assistant in football (soccer) scouting, and provides answers to questions by using fact based information.\n",
    "Use the following information to provide a concise answer to the question enclosed in <question> tags.\n",
    "If you don't know the answer from the context, just say that you don't know. Dont just return the reports as they are but at least paraphrase them.\n",
    "\n",
    "<context>\n",
    "Player-ID: 1337, Report: Played as an attacking winger and used his speed and technique excellently. His dribbling led to several dangerous situations, although he again showed weaknesses defensively. He set up a goal with a precise cross and scored one himself after a solo run. His creativity and game vision were at a high level. At 23 years old, he still has a lot of potential to rise. \\n\\n Player-ID: 888, Report:  As a defensive midfielder, he again showed a disciplined and strong performance. Won many important duels in midfield and effectively stopped opponent attacks.His passing game was precise and he showed excellent vision. Offensively, he set no accents but focused on ball distribution. Showed weaknesses in fast counterattacks by the opponent. At 27 years old, he is at the peak of his footballing age and a reliable force in midfield.\n",
    "</context>\n",
    "\n",
    "<question>\n",
    "I need a winger that has offensive skills and a defensive central player\n",
    "</question>\n",
    "\"\"\""
   ],
   "id": "2faed10366d61d41",
   "outputs": [],
   "execution_count": 19
  },
  {
   "metadata": {
    "ExecuteTime": {
     "end_time": "2024-06-13T12:28:16.873838Z",
     "start_time": "2024-06-13T12:26:59.154079Z"
    }
   },
   "cell_type": "code",
   "source": [
    "resp = client.chat.completions.create(\n",
    "    model=\"mistral\",\n",
    "    messages=[{\n",
    "        \"role\": \"user\",\n",
    "        \"content\": prompt,\n",
    "    }],\n",
    "    response_model=ListPlayerResponse,\n",
    ")\n",
    "\n",
    "print(resp.model_dump_json(indent=2))"
   ],
   "id": "622bc98fd4631206",
   "outputs": [
    {
     "name": "stdout",
     "output_type": "stream",
     "text": [
      "{\n",
      "  \"list\": [\n",
      "    {\n",
      "      \"player_id\": 1337,\n",
      "      \"report_summary\": \"The winger played well offensively, using his speed, technique, and creativity to create dangerous situations. He displayed potential for growth but showed weaknesses defensively.\"\n",
      "    },\n",
      "    {\n",
      "      \"player_id\": 888,\n",
      "      \"report_summary\": \"The defensive midfielder had a strong performance, effectively stopping opponent attacks with precision passing and excellent vision. Offensively, while he focused on ball distribution, he showed weaknesses in fast counterattacks.\"\n",
      "    }\n",
      "  ]\n",
      "}\n"
     ]
    }
   ],
   "execution_count": 20
  },
  {
   "metadata": {},
   "cell_type": "code",
   "outputs": [],
   "execution_count": null,
   "source": "",
   "id": "8b469315a306381f"
  }
 ],
 "metadata": {
  "kernelspec": {
   "display_name": "Python 3",
   "language": "python",
   "name": "python3"
  },
  "language_info": {
   "codemirror_mode": {
    "name": "ipython",
    "version": 2
   },
   "file_extension": ".py",
   "mimetype": "text/x-python",
   "name": "python",
   "nbconvert_exporter": "python",
   "pygments_lexer": "ipython2",
   "version": "2.7.6"
  }
 },
 "nbformat": 4,
 "nbformat_minor": 5
}
