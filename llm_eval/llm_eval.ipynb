{
 "cells": [
  {
   "cell_type": "code",
   "id": "initial_id",
   "metadata": {
    "collapsed": true,
    "ExecuteTime": {
     "end_time": "2024-07-07T13:50:26.397777Z",
     "start_time": "2024-07-07T13:50:26.391469Z"
    }
   },
   "source": [
    "# Defining search parameters (llm used, prompt template)\n",
    "# the formatting of the documents is also a tunable knob i'd say. Thats why its not taken from the chain.py file but copied here again. We can play around with that formatting if it actually helps our llm if we format it in a specific way. But for now its in a different cell\n",
    "\n",
    "import model_definitions\n",
    "import prompt_templates\n",
    "from langchain_community.llms.ollama import Ollama\n",
    "from langchain_core.output_parsers import JsonOutputParser\n",
    "from langchain_core.prompts import PromptTemplate\n",
    "\n",
    "MODEL = \"mistral\"  # can be replaed by grid search later\n",
    "prompt_template = prompt_templates.v005  #can be replaced by GS later\n",
    "file_name = \"test_structure.json\"\n",
    "parser = JsonOutputParser(pydantic_object=model_definitions.ListPlayerResponse)\n",
    "prompt_for_llm = PromptTemplate(\n",
    "    template=prompt_template,\n",
    "    input_variables=[\"context\", \"question\", \"format_instructions\"],\n",
    ")\n",
    "\n",
    "model = Ollama(model=MODEL, format=\"json\")"
   ],
   "outputs": [],
   "execution_count": 8
  },
  {
   "metadata": {
    "ExecuteTime": {
     "end_time": "2024-07-07T14:07:50.869715Z",
     "start_time": "2024-07-07T14:07:50.862864Z"
    }
   },
   "cell_type": "code",
   "source": [
    "from langchain_core.documents import Document\n",
    "\n",
    "\n",
    "def format_documents(docs: [Document]):\n",
    "    # Create a dictionary to hold reports for each player ID\n",
    "    player_reports = defaultdict(list)\n",
    "\n",
    "    # Aggregate reports by player ID\n",
    "    for doc in docs:\n",
    "        player_id = doc.metadata['player_transfermarkt_id']\n",
    "        report_content = doc.page_content\n",
    "        player_reports[player_id].append(report_content)\n",
    "\n",
    "    # Format the aggregated reports\n",
    "    formatted_reports = []\n",
    "    for player_id, reports in player_reports.items():\n",
    "        formatted_report = f\"Player ID: {player_id}\\n\"\n",
    "        for i, report in enumerate(reports, 1):\n",
    "            formatted_report += f\"Report {i}: {report}\\n\"\n",
    "        formatted_report += \"###\"\n",
    "        formatted_reports.append(formatted_report.strip())\n",
    "\n",
    "    # Join all formatted reports into a single string\n",
    "    return_string = \"\\n\\n\".join(formatted_reports)\n",
    "    #print(\"------------\\nAfter merging reports for each player:\\n\")\n",
    "    #print(return_string)\n",
    "    return return_string"
   ],
   "id": "b376a3d2846a451f",
   "outputs": [],
   "execution_count": 32
  },
  {
   "metadata": {
    "ExecuteTime": {
     "end_time": "2024-07-07T14:03:21.859529Z",
     "start_time": "2024-07-07T14:03:21.852137Z"
    }
   },
   "cell_type": "code",
   "source": [
    "# Define model\n",
    "from pydantic.v1 import BaseModel\n",
    "\n",
    "from langchain_core.documents import Document\n",
    "from typing import List\n",
    "\n",
    "\n",
    "class QueryAndRetrievedDocuments(BaseModel):\n",
    "    query: str\n",
    "    retrieved_documents: List[Document]\n",
    "\n",
    "\n",
    "class DataModel(BaseModel):\n",
    "    data: List[QueryAndRetrievedDocuments]"
   ],
   "id": "fdbfcbc706936003",
   "outputs": [],
   "execution_count": 22
  },
  {
   "metadata": {
    "ExecuteTime": {
     "end_time": "2024-07-07T13:50:34.554635Z",
     "start_time": "2024-07-07T13:50:34.550095Z"
    }
   },
   "cell_type": "code",
   "source": [
    "from collections import defaultdict\n",
    "import json\n",
    "\n",
    "\n",
    "# Create the context\n",
    "def load_inputs() -> DataModel:\n",
    "    with open(file_name, \"r\") as file:\n",
    "        json_data = file.read()\n",
    "        parsed_data = json.loads(json_data)\n",
    "        return parsed_data\n"
   ],
   "id": "ccf13103f38e4393",
   "outputs": [],
   "execution_count": 11
  },
  {
   "metadata": {
    "ExecuteTime": {
     "end_time": "2024-07-07T13:50:35.492367Z",
     "start_time": "2024-07-07T13:50:35.470573Z"
    }
   },
   "cell_type": "code",
   "source": [
    "inputs: DataModel = load_inputs()\n",
    "print(inputs[0])"
   ],
   "id": "81aeb34b92d28d63",
   "outputs": [
    {
     "name": "stdout",
     "output_type": "stream",
     "text": [
      "{'query': 'my first query', 'retrieved_documents': [{'page_content': 'Hes a very good striker', 'metadata': {'id': 1, 'player_id': '12', 'player_transfermarkt_id': '123', 'scout_id': '0', 'grade_rating': 9.5, 'grade_potential': 10.0, 'main_position': 'centralmidfield', 'played_position': 'centralmidfield'}}, {'page_content': 'Very good finishing in front of the goal', 'metadata': {'id': 2, 'player_id': '12', 'player_transfermarkt_id': '123', 'scout_id': '0', 'grade_rating': 9.5, 'grade_potential': 10.0, 'main_position': 'centralmidfield', 'played_position': 'centralmidfield'}}]}\n"
     ]
    }
   ],
   "execution_count": 12
  },
  {
   "metadata": {
    "ExecuteTime": {
     "end_time": "2024-07-07T13:50:36.214485Z",
     "start_time": "2024-07-07T13:50:36.209390Z"
    }
   },
   "cell_type": "code",
   "source": "print(inputs)",
   "id": "f1f927465e1bbe65",
   "outputs": [
    {
     "name": "stdout",
     "output_type": "stream",
     "text": [
      "[{'query': 'my first query', 'retrieved_documents': [{'page_content': 'Hes a very good striker', 'metadata': {'id': 1, 'player_id': '12', 'player_transfermarkt_id': '123', 'scout_id': '0', 'grade_rating': 9.5, 'grade_potential': 10.0, 'main_position': 'centralmidfield', 'played_position': 'centralmidfield'}}, {'page_content': 'Very good finishing in front of the goal', 'metadata': {'id': 2, 'player_id': '12', 'player_transfermarkt_id': '123', 'scout_id': '0', 'grade_rating': 9.5, 'grade_potential': 10.0, 'main_position': 'centralmidfield', 'played_position': 'centralmidfield'}}]}]\n"
     ]
    }
   ],
   "execution_count": 13
  },
  {
   "metadata": {
    "ExecuteTime": {
     "end_time": "2024-07-07T14:17:14.017380Z",
     "start_time": "2024-07-07T14:17:05.770653Z"
    }
   },
   "cell_type": "code",
   "source": [
    "from model_definitions import ListPlayerResponse\n",
    "from evaluate import load\n",
    "\n",
    "\n",
    "# for all contexts format the documents so it conforms to the string passed to llm\n",
    "# then call llm\n",
    "# then we have a input/llm response pair\n",
    "# do all metrics on those\n",
    "# print result\n",
    "#\n",
    "\n",
    "def get_reports_from_context(query_and_retrieved_doc_dict: QueryAndRetrievedDocuments, player_id: str) -> str:\n",
    "    query_and_retrieved_docs = QueryAndRetrievedDocuments.parse_obj(query_and_retrieved_doc_dict)\n",
    "    return_string = \"\"\n",
    "    for doc in query_and_retrieved_docs.retrieved_documents:\n",
    "        if doc.metadata['player_transfermarkt_id'] == player_id:\n",
    "            return_string += \"Report:\" + doc.page_content + \"\\n\"\n",
    "\n",
    "    return return_string\n",
    "\n",
    "\n",
    "for singleInput in inputs:\n",
    "    actual_instance_of_input = QueryAndRetrievedDocuments.parse_obj(singleInput)\n",
    "    formatted_context_string = format_documents(actual_instance_of_input.retrieved_documents)\n",
    "\n",
    "    prompt_injection = {\"context\": formatted_context_string, \"question\": actual_instance_of_input.query,\n",
    "                        \"format_instructions\": parser.get_format_instructions()}\n",
    "    prompt_for_llm = prompt_template.format(**prompt_injection)\n",
    "    print(prompt_for_llm)\n",
    "\n",
    "    model_answer = model.invoke(prompt_for_llm)\n",
    "    #print(model_answer)\n",
    "\n",
    "    model_json_answer = json.loads(model_answer)\n",
    "    #print(model_json_answer)\n",
    "\n",
    "    player_response = ListPlayerResponse(**model_json_answer)\n",
    "\n",
    "    # Metrics\n",
    "    bertscore_metrics = []\n",
    "    berscore = load(\"bertscore\")\n",
    "    for player in player_response.list:\n",
    "        model_summary = player.report_summary\n",
    "        context_reports = get_reports_from_context(singleInput, str(player.player_id))\n",
    "        print(\"comparison now:\")\n",
    "        print(\"model_summary: \\n\\t\", model_summary)\n",
    "        print(\"initial reports: \\n\\t\", context_reports)\n",
    "\n",
    "        # bertscore\n",
    "        predictions = [model_summary]\n",
    "        references = [context_reports]\n",
    "        # other model such as \"roberta-large\" is better, but larger obv (distilbert... takes 268MB vs roberta-large is 1.4GB)\n",
    "        print(\"bert score: \",\n",
    "              berscore.compute(predictions=predictions, references=references, model_type=\"distilbert-base-uncased\"))\n",
    "    # for every player now check the metrics\n",
    "    # for list_item in model_json_answer:\n",
    "\n",
    "\n"
   ],
   "id": "d9f8c147bfba4c53",
   "outputs": [
    {
     "name": "stdout",
     "output_type": "stream",
     "text": [
      "You are an assistant in football (soccer) scouting.\n",
      "    Use the following information to provide a concise answer to the question enclosed in <question> tags.\n",
      "    Dont make up anything that you dont see from the context.\n",
      "    \n",
      "    <context>\n",
      "    Player ID: 123\n",
      "Report 1: Hes a very good striker\n",
      "Report 2: Very good finishing in front of the goal\n",
      "###\n",
      "    </context>\n",
      "\n",
      "    <question>\n",
      "    my first query\n",
      "    </question>\n",
      "\n",
      "   The output should be formatted as a JSON instance that conforms to the JSON schema below.\n",
      "\n",
      "As an example, for the schema {\"properties\": {\"foo\": {\"title\": \"Foo\", \"description\": \"a list of strings\", \"type\": \"array\", \"items\": {\"type\": \"string\"}}}, \"required\": [\"foo\"]}\n",
      "the object {\"foo\": [\"bar\", \"baz\"]} is a well-formatted instance of the schema. The object {\"properties\": {\"foo\": [\"bar\", \"baz\"]}} is not well-formatted.\n",
      "\n",
      "Here is the output schema:\n",
      "```\n",
      "{\"$defs\": {\"PlayerResponse\": {\"properties\": {\"player_id\": {\"description\": \"ID of the player\", \"title\": \"Player Id\", \"type\": \"integer\"}, \"report_summary\": {\"description\": \"Summary of the reports that have the same player id\", \"name\": \"report_summary\", \"title\": \"Report Summary\", \"type\": \"string\"}}, \"required\": [\"player_id\", \"report_summary\"], \"title\": \"PlayerResponse\", \"type\": \"object\"}}, \"properties\": {\"list\": {\"items\": {\"$ref\": \"#/$defs/PlayerResponse\"}, \"title\": \"List\", \"type\": \"array\"}}, \"required\": [\"list\"]}\n",
      "```\n",
      "\n",
      "comparison now:\n",
      "model_summary: \n",
      "\t Very good striker. Has very good finishing in front of the goal\n",
      "initial reports: \n",
      "\t Report:Hes a very good striker\n",
      "Report:Very good finishing in front of the goal\n",
      "\n",
      "bert score:  {'precision': [0.935058057308197], 'recall': [0.8884869813919067], 'f1': [0.9111778140068054], 'hashcode': 'distilbert-base-uncased_L5_no-idf_version=0.3.12(hug_trans=4.41.2)'}\n"
     ]
    }
   ],
   "execution_count": 39
  },
  {
   "metadata": {
    "ExecuteTime": {
     "end_time": "2024-07-06T15:30:40.540578Z",
     "start_time": "2024-07-06T15:30:40.487370Z"
    }
   },
   "cell_type": "code",
   "source": [
    "test_predictions = [\"Hes a very good striker with good technical abilities\"]\n",
    "test_references = [\"Good forward with vast technical skills\"]\n",
    "print(\"bert score: \",\n",
    "      berscore.compute(predictions=test_predictions, references=test_references, model_type=\"distilbert-base-uncased\"))"
   ],
   "id": "2abfcf72b1ec504a",
   "outputs": [
    {
     "name": "stdout",
     "output_type": "stream",
     "text": [
      "bert score:  {'precision': [0.8179069757461548], 'recall': [0.879371166229248], 'f1': [0.8475261926651001], 'hashcode': 'distilbert-base-uncased_L5_no-idf_version=0.3.12(hug_trans=4.41.2)'}\n"
     ]
    }
   ],
   "execution_count": 117
  },
  {
   "metadata": {
    "ExecuteTime": {
     "end_time": "2024-07-06T15:31:14.005742Z",
     "start_time": "2024-07-06T15:31:13.961395Z"
    }
   },
   "cell_type": "code",
   "source": [
    "test_predictions2 = [\"Hes a very good striker with good technical abilities\"]\n",
    "test_references2 = [\"Goalie that has excellent technical abilities\"]\n",
    "print(\"bert score: \", berscore.compute(predictions=test_predictions2, references=test_references2,\n",
    "                                       model_type=\"distilbert-base-uncased\"))"
   ],
   "id": "74a0adbcc373a6ca",
   "outputs": [
    {
     "name": "stdout",
     "output_type": "stream",
     "text": [
      "bert score:  {'precision': [0.8239872455596924], 'recall': [0.8469311594963074], 'f1': [0.8353016376495361], 'hashcode': 'distilbert-base-uncased_L5_no-idf_version=0.3.12(hug_trans=4.41.2)'}\n"
     ]
    }
   ],
   "execution_count": 118
  }
 ],
 "metadata": {
  "kernelspec": {
   "display_name": "Python 3",
   "language": "python",
   "name": "python3"
  },
  "language_info": {
   "codemirror_mode": {
    "name": "ipython",
    "version": 2
   },
   "file_extension": ".py",
   "mimetype": "text/x-python",
   "name": "python",
   "nbconvert_exporter": "python",
   "pygments_lexer": "ipython2",
   "version": "2.7.6"
  }
 },
 "nbformat": 4,
 "nbformat_minor": 5
}
