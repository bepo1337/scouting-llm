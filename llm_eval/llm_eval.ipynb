{
 "cells": [
  {
   "cell_type": "code",
   "id": "initial_id",
   "metadata": {
    "collapsed": true,
    "ExecuteTime": {
     "end_time": "2024-07-06T14:13:08.295260Z",
     "start_time": "2024-07-06T14:13:08.291043Z"
    }
   },
   "source": [
    "# Defining search parameters (llm used, prompt template)\n",
    "# the formatting of the documents is also a tunable knob i'd say. Thats why its not taken from the chain.py file but copied here again. We can play around with that formatting if it actually helps our llm if we format it in a specific way. But for now its in a different cell\n",
    "\n",
    "import prompt_templates\n",
    "from langchain_community.llms.ollama import Ollama\n",
    "\n",
    "\n",
    "MODEL = \"mistral\" # can be replaed by grid search later\n",
    "prompt_template = prompt_templates.v005 #can be replaced by GS later\n",
    "file_name = \"test_structure.json\"\n",
    "\n",
    "\n",
    "model = Ollama(model=MODEL, format=\"json\")"
   ],
   "outputs": [],
   "execution_count": 47
  },
  {
   "metadata": {
    "ExecuteTime": {
     "end_time": "2024-07-06T14:21:30.543766Z",
     "start_time": "2024-07-06T14:21:30.537253Z"
    }
   },
   "cell_type": "code",
   "source": [
    "from langchain_core.documents import Document\n",
    "\n",
    "def format_documents(docs: [Document]):\n",
    "    casted_docs = []\n",
    "    for doc in docs: \n",
    "        casted_doc = Document(**doc)\n",
    "        casted_docs.append(casted_doc)\n",
    "        \n",
    "    # Create a dictionary to hold reports for each player ID\n",
    "    player_reports = defaultdict(list)\n",
    "\n",
    "    # Aggregate reports by player ID\n",
    "    for doc in casted_docs:\n",
    "        player_id = doc.metadata['player_transfermarkt_id']\n",
    "        report_content = doc.page_content\n",
    "        player_reports[player_id].append(report_content)\n",
    "\n",
    "    # Format the aggregated reports\n",
    "    formatted_reports = []\n",
    "    for player_id, reports in player_reports.items():\n",
    "        formatted_report = f\"Player ID: {player_id}\\n\"\n",
    "        for i, report in enumerate(reports, 1):\n",
    "            formatted_report += f\"Report {i}: {report}\\n\"\n",
    "        formatted_report += \"###\"\n",
    "        formatted_reports.append(formatted_report.strip())\n",
    "\n",
    "    # Join all formatted reports into a single string\n",
    "    return_string = \"\\n\\n\".join(formatted_reports)\n",
    "    #print(\"------------\\nAfter merging reports for each player:\\n\")\n",
    "    #print(return_string)\n",
    "    return return_string"
   ],
   "id": "b376a3d2846a451f",
   "outputs": [],
   "execution_count": 76
  },
  {
   "metadata": {
    "ExecuteTime": {
     "end_time": "2024-07-06T14:13:08.312414Z",
     "start_time": "2024-07-06T14:13:08.304769Z"
    }
   },
   "cell_type": "code",
   "source": [
    "# Define model\n",
    "\n",
    "from dataclasses import dataclass\n",
    "from langchain_core.documents import Document\n",
    "from typing import List\n",
    "\n",
    "@dataclass(init=True)\n",
    "class QueryAndRetrievedDocuments:\n",
    "    query: str\n",
    "    retrieved_documents: List[Document]\n",
    "            \n",
    "\n",
    "@dataclass\n",
    "class DataModel:\n",
    "    data: List[QueryAndRetrievedDocuments]"
   ],
   "id": "fdbfcbc706936003",
   "outputs": [],
   "execution_count": 49
  },
  {
   "metadata": {
    "ExecuteTime": {
     "end_time": "2024-07-06T14:21:56.821630Z",
     "start_time": "2024-07-06T14:21:56.815136Z"
    }
   },
   "cell_type": "code",
   "source": [
    "from collections import defaultdict\n",
    "import json\n",
    "\n",
    "# Create the context\n",
    "def load_inputs() -> DataModel:\n",
    "    with open(file_name, \"r\") as file:\n",
    "        json_data = file.read()\n",
    "        parsed_data = json.loads(json_data)     \n",
    "        return parsed_data\n",
    "    "
   ],
   "id": "ccf13103f38e4393",
   "outputs": [],
   "execution_count": 78
  },
  {
   "metadata": {
    "ExecuteTime": {
     "end_time": "2024-07-06T14:22:03.543794Z",
     "start_time": "2024-07-06T14:22:03.535444Z"
    }
   },
   "cell_type": "code",
   "source": [
    "inputs: DataModel = load_inputs()\n",
    "print(inputs[0])"
   ],
   "id": "81aeb34b92d28d63",
   "outputs": [
    {
     "name": "stdout",
     "output_type": "stream",
     "text": [
      "{'query': 'my first query', 'retrieved_documents': [{'page_content': 'First page content!', 'metadata': {'id': 1, 'player_id': '12', 'player_transfermarkt_id': '123', 'scout_id': '0', 'grade_rating': 9.5, 'grade_potential': 10.0, 'main_position': 'centralmidfield', 'played_position': 'centralmidfield'}}, {'page_content': 'Second page content!', 'metadata': {'id': 1, 'player_id': '12', 'player_transfermarkt_id': '123', 'scout_id': '0', 'grade_rating': 9.5, 'grade_potential': 10.0, 'main_position': 'centralmidfield', 'played_position': 'centralmidfield'}}]}\n"
     ]
    }
   ],
   "execution_count": 79
  },
  {
   "metadata": {
    "ExecuteTime": {
     "end_time": "2024-07-06T14:13:08.333540Z",
     "start_time": "2024-07-06T14:13:08.329421Z"
    }
   },
   "cell_type": "code",
   "source": "print(inputs)",
   "id": "f1f927465e1bbe65",
   "outputs": [
    {
     "name": "stdout",
     "output_type": "stream",
     "text": [
      "[{'query': 'my first query', 'retrieved_documents': [{'page_content': 'First page content!', 'metadata': {'id': 1, 'player_id': '12', 'player_transfermarkt_id': '123', 'scout_id': '0', 'grade_rating': 9.5, 'grade_potential': 10.0, 'main_position': 'centralmidfield', 'played_position': 'centralmidfield'}}]}]\n"
     ]
    }
   ],
   "execution_count": 52
  },
  {
   "metadata": {
    "ExecuteTime": {
     "end_time": "2024-07-06T14:22:05.674485Z",
     "start_time": "2024-07-06T14:22:05.668776Z"
    }
   },
   "cell_type": "code",
   "source": [
    "# for all contexts format the documents so it conforms to the string passed to llm\n",
    "# then call llm\n",
    "# then we have a input/llm response pair\n",
    "# do all metrics on those\n",
    "# print result\n",
    "\n",
    "from dacite import from_dict\n",
    "\n",
    "\n",
    "for singleInput in inputs:\n",
    "    d = QueryAndRetrievedDocuments(**singleInput)\n",
    "    print(d)\n",
    "    print(type(d))\n",
    "    \n",
    "    formatted_string = format_documents(d.retrieved_documents)\n",
    "    print(formatted_string)\n",
    "    \n",
    "    #actual_instance = from_dict(data_class=QueryAndRetrievedDocuments, data=singleInput)\n",
    "    #print(type(testtt))\n",
    "    #print(testtt['retrieved_documents'])\n",
    "    #formatted_input_string = format_documents(input['retrieved_documents'])\n",
    "    #print(formatted_input_string)\n"
   ],
   "id": "d9f8c147bfba4c53",
   "outputs": [
    {
     "name": "stdout",
     "output_type": "stream",
     "text": [
      "QueryAndRetrievedDocuments(query='my first query', retrieved_documents=[{'page_content': 'First page content!', 'metadata': {'id': 1, 'player_id': '12', 'player_transfermarkt_id': '123', 'scout_id': '0', 'grade_rating': 9.5, 'grade_potential': 10.0, 'main_position': 'centralmidfield', 'played_position': 'centralmidfield'}}, {'page_content': 'Second page content!', 'metadata': {'id': 1, 'player_id': '12', 'player_transfermarkt_id': '123', 'scout_id': '0', 'grade_rating': 9.5, 'grade_potential': 10.0, 'main_position': 'centralmidfield', 'played_position': 'centralmidfield'}}])\n",
      "<class '__main__.QueryAndRetrievedDocuments'>\n",
      "Player ID: 123\n",
      "Report 1: First page content!\n",
      "Report 2: Second page content!\n",
      "###\n"
     ]
    }
   ],
   "execution_count": 80
  }
 ],
 "metadata": {
  "kernelspec": {
   "display_name": "Python 3",
   "language": "python",
   "name": "python3"
  },
  "language_info": {
   "codemirror_mode": {
    "name": "ipython",
    "version": 2
   },
   "file_extension": ".py",
   "mimetype": "text/x-python",
   "name": "python",
   "nbconvert_exporter": "python",
   "pygments_lexer": "ipython2",
   "version": "2.7.6"
  }
 },
 "nbformat": 4,
 "nbformat_minor": 5
}
