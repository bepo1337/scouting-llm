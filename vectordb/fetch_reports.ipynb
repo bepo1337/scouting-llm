{
 "cells": [
  {
   "cell_type": "code",
   "id": "initial_id",
   "metadata": {
    "collapsed": true
   },
   "source": [
    ""
   ],
   "outputs": [],
   "execution_count": null
  },
  {
   "metadata": {
    "ExecuteTime": {
     "end_time": "2024-06-04T16:07:24.181110Z",
     "start_time": "2024-06-04T16:07:24.164332Z"
    }
   },
   "cell_type": "code",
   "source": [
    "import os\n",
    "from dotenv import load_dotenv\n",
    "\n",
    "load_dotenv()\n",
    "\n",
    "OPENAI_API_KEY = os.getenv(\"OPENAPI_KEY\") # (Optional), if OpenAI Model is used\n",
    "\n",
    "MODEL = \"mistral:latest\" # Name of the model used by Ollama\n",
    "\n",
    "COLLECTION_NAME = 'scouting' # Name of the Collection to be created\n",
    "\n",
    "DIMENSION = 1536 # Dimension of the embeddings\n",
    "\n",
    "URI = 'http://localhost:19530' # Connection parameters for the Milvus Server"
   ],
   "id": "da2315003ac11e54",
   "outputs": [],
   "execution_count": 26
  },
  {
   "metadata": {
    "ExecuteTime": {
     "end_time": "2024-06-04T16:07:27.012610Z",
     "start_time": "2024-06-04T16:07:26.965986Z"
    }
   },
   "cell_type": "code",
   "source": [
    "from langchain_community.llms import Ollama\n",
    "from langchain_openai import OpenAIEmbeddings\n",
    "\n",
    "model = Ollama(model=MODEL)\n",
    "embeddings = OpenAIEmbeddings(api_key=OPENAI_API_KEY)"
   ],
   "id": "745c61b5491a06db",
   "outputs": [],
   "execution_count": 27
  },
  {
   "metadata": {
    "ExecuteTime": {
     "end_time": "2024-06-04T16:07:28.407536Z",
     "start_time": "2024-06-04T16:07:28.402870Z"
    }
   },
   "cell_type": "code",
   "source": [
    "# Configure the prompt template that is used to ask the LLM\n",
    "\n",
    "from langchain_core.prompts import PromptTemplate\n",
    "\n",
    "PROMPT_TEMPLATE = \"\"\"\n",
    "Human: You are an AI assistant, and provides answers to questions by using fact based and statistical information when possible.\n",
    "Use the following pieces of information to provide a concise answer to the question enclosed in <question> tags.\n",
    "If you don't know the answer, just say that you don't know, don't try to make up an answer.\n",
    "<context>\n",
    "{context}\n",
    "</context>\n",
    "\n",
    "<question>\n",
    "{question}\n",
    "</question>\n",
    "\n",
    "The response should be specific and use statistics or numbers when possible.\n",
    "\n",
    "Assistant:\"\"\"\n",
    "\n",
    "prompt = PromptTemplate(\n",
    "    template=PROMPT_TEMPLATE, input_variables=[\"context\", \"question\"]\n",
    ")\n",
    "print(prompt.format(context=\"Here is some context\", question=\"Here is a question\"))"
   ],
   "id": "df75b1522924f257",
   "outputs": [
    {
     "name": "stdout",
     "output_type": "stream",
     "text": [
      "\n",
      "Human: You are an AI assistant, and provides answers to questions by using fact based and statistical information when possible.\n",
      "Use the following pieces of information to provide a concise answer to the question enclosed in <question> tags.\n",
      "If you don't know the answer, just say that you don't know, don't try to make up an answer.\n",
      "<context>\n",
      "Here is some context\n",
      "</context>\n",
      "\n",
      "<question>\n",
      "Here is a question\n",
      "</question>\n",
      "\n",
      "The response should be specific and use statistics or numbers when possible.\n",
      "\n",
      "Assistant:\n"
     ]
    }
   ],
   "execution_count": 28
  },
  {
   "metadata": {
    "ExecuteTime": {
     "end_time": "2024-06-04T16:07:30.926566Z",
     "start_time": "2024-06-04T16:07:30.911084Z"
    }
   },
   "cell_type": "code",
   "source": [
    "# Use Milvus as Vectorstore\n",
    "\n",
    "from langchain_community.vectorstores import Milvus\n",
    "\n",
    "connection_args = {'uri': URI }\n",
    "\n",
    "vectorstore = Milvus(\n",
    "    embedding_function=embeddings,\n",
    "    connection_args=connection_args,\n",
    "    collection_name=COLLECTION_NAME,\n",
    "    vector_field=\"embeddings\",\n",
    "    primary_field=\"id\",\n",
    "    auto_id=True\n",
    "    \n",
    ")\n"
   ],
   "id": "45e3e5d634727002",
   "outputs": [],
   "execution_count": 29
  },
  {
   "metadata": {
    "ExecuteTime": {
     "end_time": "2024-06-04T16:07:32.738725Z",
     "start_time": "2024-06-04T16:07:32.735366Z"
    }
   },
   "cell_type": "code",
   "source": [
    "# Convert the vector store to a retriever\n",
    "retriever = vectorstore.as_retriever()\n",
    "# Define a function to format the retrieved documents\n",
    "def format_docs(docs):\n",
    "    return \"\\n\\n\".join(doc.page_content for doc in docs)"
   ],
   "id": "f882bd20b36b7ae4",
   "outputs": [],
   "execution_count": 30
  },
  {
   "metadata": {
    "ExecuteTime": {
     "end_time": "2024-06-04T16:09:42.536375Z",
     "start_time": "2024-06-04T16:07:33.990482Z"
    }
   },
   "cell_type": "code",
   "source": [
    "from langchain_core.runnables import RunnablePassthrough\n",
    "from langchain_core.output_parsers import StrOutputParser\n",
    "\n",
    "rag_chain = (\n",
    "    {\"context\": retriever | format_docs, \"question\": RunnablePassthrough()}\n",
    "    | prompt\n",
    "    | model\n",
    "    | StrOutputParser()\n",
    ")\n",
    "\n",
    "# rag_chain.get_graph().print_ascii()\n",
    "\n",
    "# Invoke the RAG chain with a specific question and retrieve the response\n",
    "query = \"Ich brauche einen Rechtsverteidiger, der konstant über das ganze Spiel durchspielt. Er sollte auch im Spiel nach vorne gut sein\"\n",
    "res = rag_chain.invoke(query)\n",
    "res"
   ],
   "id": "4135d6b87ab58b8a",
   "outputs": [
    {
     "data": {
      "text/plain": [
       "' In your search for a right-back who performs consistently throughout the game, consider players around 25 years old with potential for improvement, such as those mentioned in the context. They demonstrate strong defensive skills, allowing few opportunities for opponents and contribute offensively through precise passes and well-timed advances. However, they may struggle against fast wingers due to a perceived weakness in their end speed. To improve the precision of long balls, you might also consider players with this specific skill set to be trained further.'"
      ]
     },
     "execution_count": 31,
     "metadata": {},
     "output_type": "execute_result"
    }
   ],
   "execution_count": 31
  },
  {
   "metadata": {
    "ExecuteTime": {
     "end_time": "2024-06-04T16:10:54.223602Z",
     "start_time": "2024-06-04T16:10:54.220381Z"
    }
   },
   "cell_type": "code",
   "source": [
    "from langchain_core.documents.base import Document\n",
    "\n",
    "def extract_metadata(doc: Document) -> dict:\n",
    "    return doc.metadata"
   ],
   "id": "f36ec6c86b20a653",
   "outputs": [],
   "execution_count": 32
  },
  {
   "metadata": {
    "ExecuteTime": {
     "end_time": "2024-06-04T16:10:56.748791Z",
     "start_time": "2024-06-04T16:10:56.097676Z"
    }
   },
   "cell_type": "code",
   "source": [
    "# How to work with meta data from our query\n",
    "retrived_documents = retriever.invoke(query)\n",
    "retrived_documents"
   ],
   "id": "6eeb0401737946d6",
   "outputs": [
    {
     "data": {
      "text/plain": [
       "[Document(page_content='\\n Wieder als rechter Verteidiger eingesetzt, zeigte er eine beständige Leistung über die gesamte Spielzeit.\\nDefensiv sehr solide, ließ kaum Flanken und gegnerische Durchbrüche zu.\\nOffensiv setzte er Akzente durch präzise Flanken und gute Vorstöße.\\nSeine Ausdauer und Einsatzbereitschaft waren erneut beeindruckend.\\nSeine Endgeschwindigkeit bleibt eine Schwäche, die gegen schnelle Gegenspieler problematisch sein könnte.\\nMit 25 Jahren hat er noch Verbesserungspotenzial.\\n ', metadata={'id': 450236041423488387, 'scout_id': '0987', 'player_id': 'bf1234567890abcdef123456', 'player_transfermarkt_id': '951357', 'grade_rating': 0.699999988079071, 'grade_potential': 0.75}),\n",
       " Document(page_content='\\n Spielte als rechter Verteidiger und zeigte eine konstante Leistung über 90 Minuten.\\nWar sicher in der Defensive und ließ kaum Flanken zu.\\nOffensiv setzte er Akzente mit präzisen Pässen und gut getimten Vorstößen.\\nSeine Ausdauer und Einsatzbereitschaft waren bemerkenswert.\\nSchwächelte jedoch in der Endgeschwindigkeit, was gegen schnelle Flügelspieler problematisch sein könnte.\\nMit 25 Jahren im besten Alter, um sich weiter zu verbessern.\\n ', metadata={'id': 450236041423488377, 'scout_id': '0987', 'player_id': 'bf1234567890abcdef123456', 'player_transfermarkt_id': '951357', 'grade_rating': 0.699999988079071, 'grade_potential': 0.75}),\n",
       " Document(page_content='\\n Kam erneut als Innenverteidiger zum Einsatz und zeigte eine überragende Leistung.\\nWar sehr sicher in der Defensive und dominierte seine Gegenspieler.\\nSein Stellungsspiel und Zweikampfverhalten waren exzellent.\\nIm Spielaufbau zeigte er sich verbessert und initiierte einige Angriffe.\\nSeine Kopfballstärke war bei Standardsituationen erneut ein großer Pluspunkt.\\nMit 28 Jahren hat er sich zu einem verlässlichen Abwehrspieler entwickelt.\\n ', metadata={'id': 450236041423488390, 'scout_id': '4321', 'player_id': 'ef1234567890abcdef123456', 'player_transfermarkt_id': '159264', 'grade_rating': 0.75, 'grade_potential': 0.699999988079071}),\n",
       " Document(page_content='\\n Als linker Außenverteidiger erneut mit beeindruckender Geschwindigkeit und starkem defensivem Stellungsspiel.\\nHatte Schwierigkeiten bei der Ballverarbeitung unter Druck, jedoch offensiv mit einigen gefährlichen Hereingaben.\\nSeine Ausdauer ermöglicht es ihm, konstant über 90 Minuten zu performen.\\nMehr Präzision bei den langen Bällen wäre wünschenswert.\\nMit 24 Jahren weiterhin ein Spieler mit vielversprechendem Potenzial.\\n ', metadata={'id': 450236041423488381, 'scout_id': '5678', 'player_id': '6b1234567890abcdef123456', 'player_transfermarkt_id': '159753', 'grade_rating': 0.699999988079071, 'grade_potential': 0.800000011920929})]"
      ]
     },
     "execution_count": 33,
     "metadata": {},
     "output_type": "execute_result"
    }
   ],
   "execution_count": 33
  },
  {
   "metadata": {
    "ExecuteTime": {
     "end_time": "2024-06-04T16:11:38.491082Z",
     "start_time": "2024-06-04T16:11:38.484680Z"
    }
   },
   "cell_type": "code",
   "source": [
    "metadata = extract_metadata(retrived_documents[0])\n",
    "metadata"
   ],
   "id": "347f4dd205a2a218",
   "outputs": [
    {
     "data": {
      "text/plain": [
       "{'id': 450236041423488387,\n",
       " 'scout_id': '0987',\n",
       " 'player_id': 'bf1234567890abcdef123456',\n",
       " 'player_transfermarkt_id': '951357',\n",
       " 'grade_rating': 0.699999988079071,\n",
       " 'grade_potential': 0.75}"
      ]
     },
     "execution_count": 34,
     "metadata": {},
     "output_type": "execute_result"
    }
   ],
   "execution_count": 34
  },
  {
   "metadata": {
    "ExecuteTime": {
     "end_time": "2024-06-04T16:11:46.291865Z",
     "start_time": "2024-06-04T16:11:46.287962Z"
    }
   },
   "cell_type": "code",
   "source": [
    "# Transfermarkt Link\n",
    "print(f\"Transfermarkt.com Link: https://www.transfermarkt.com/player-name/profil/spieler/{metadata['player_transfermarkt_id']}\")"
   ],
   "id": "af7e594739a62f82",
   "outputs": [
    {
     "name": "stdout",
     "output_type": "stream",
     "text": [
      "Transfermarkt.com Link: https://www.transfermarkt.com/player-name/profil/spieler/951357\n"
     ]
    }
   ],
   "execution_count": 35
  },
  {
   "metadata": {},
   "cell_type": "code",
   "source": "print",
   "id": "2550403e4a1b9686",
   "outputs": [],
   "execution_count": null
  }
 ],
 "metadata": {
  "kernelspec": {
   "display_name": "Python 3",
   "language": "python",
   "name": "python3"
  },
  "language_info": {
   "codemirror_mode": {
    "name": "ipython",
    "version": 2
   },
   "file_extension": ".py",
   "mimetype": "text/x-python",
   "name": "python",
   "nbconvert_exporter": "python",
   "pygments_lexer": "ipython2",
   "version": "2.7.6"
  }
 },
 "nbformat": 4,
 "nbformat_minor": 5
}
