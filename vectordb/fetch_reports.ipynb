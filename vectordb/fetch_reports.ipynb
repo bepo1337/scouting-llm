{
 "cells": [
  {
   "metadata": {},
   "cell_type": "markdown",
   "source": [
    "Resources used:\n",
    "- https://python.langchain.com/v0.1/docs/integrations/vectorstores/milvus/\n",
    "- https://milvus.io/docs/integrate_with_langchain.md"
   ],
   "id": "ceb6154fd59a9d00"
  },
  {
   "metadata": {
    "ExecuteTime": {
     "end_time": "2024-06-10T03:54:14.312244Z",
     "start_time": "2024-06-10T03:54:14.298917Z"
    }
   },
   "cell_type": "code",
   "source": [
    "import os\n",
    "from dotenv import load_dotenv\n",
    "\n",
    "load_dotenv()\n",
    "\n",
    "#OPENAI_API_KEY = os.getenv(\"OPENAPI_KEY\") # (Optional), if OpenAI Model is used\n",
    "\n",
    "MODEL = \"mistral\" # Name of the model used by Ollama\n",
    "EMBEDDING_MODEL = \"nomic-embed-text\"\n",
    "COLLECTION_NAME = 'scouting' # Name of the Collection to be created\n",
    "DIMENSION = 768 # Dimension of the embeddings\n",
    "\n",
    "URI = 'http://localhost:19530' # Connection parameters for the Milvus Server"
   ],
   "id": "da2315003ac11e54",
   "outputs": [],
   "execution_count": 1
  },
  {
   "metadata": {
    "ExecuteTime": {
     "end_time": "2024-06-10T03:54:18.845168Z",
     "start_time": "2024-06-10T03:54:18.536952Z"
    }
   },
   "cell_type": "code",
   "source": [
    "from langchain_community.llms import Ollama\n",
    "from langchain_community.embeddings import OllamaEmbeddings\n",
    "\n",
    "model = Ollama(model=MODEL)\n",
    "embeddings = OllamaEmbeddings(model=EMBEDDING_MODEL)"
   ],
   "id": "745c61b5491a06db",
   "outputs": [],
   "execution_count": 2
  },
  {
   "metadata": {
    "ExecuteTime": {
     "end_time": "2024-06-10T03:54:20.831609Z",
     "start_time": "2024-06-10T03:54:20.782398Z"
    }
   },
   "cell_type": "code",
   "source": [
    "# Configure the prompt template that is used to ask the LLM\n",
    "\n",
    "from langchain_core.prompts import PromptTemplate\n",
    "\n",
    "PROMPT_TEMPLATE = \"\"\"\n",
    "Human: You are an AI assistant, and provides answers to questions by using fact based and statistical information when possible.\n",
    "Use the following pieces of information to provide a concise answer to the question enclosed in <question> tags.\n",
    "If you don't know the answer from the context, just say that you don't know, don't try to make up an answer.\n",
    "<context>\n",
    "{context}\n",
    "</context>\n",
    "\n",
    "<question>\n",
    "{question}\n",
    "</question>\n",
    "\n",
    "The response should be specific and use statistics or numbers when possible.\n",
    "\n",
    "Assistant:\"\"\"\n",
    "\n",
    "prompt = PromptTemplate(\n",
    "    template=PROMPT_TEMPLATE, input_variables=[\"context\", \"question\"]\n",
    ")\n",
    "print(prompt.format(context=\"Here is some context\", question=\"Here is a question\"))"
   ],
   "id": "df75b1522924f257",
   "outputs": [
    {
     "name": "stdout",
     "output_type": "stream",
     "text": [
      "\n",
      "Human: You are an AI assistant, and provides answers to questions by using fact based and statistical information when possible.\n",
      "Use the following pieces of information to provide a concise answer to the question enclosed in <question> tags.\n",
      "If you don't know the answer from the context, just say that you don't know, don't try to make up an answer.\n",
      "<context>\n",
      "Here is some context\n",
      "</context>\n",
      "\n",
      "<question>\n",
      "Here is a question\n",
      "</question>\n",
      "\n",
      "The response should be specific and use statistics or numbers when possible.\n",
      "\n",
      "Assistant:\n"
     ]
    }
   ],
   "execution_count": 3
  },
  {
   "metadata": {
    "ExecuteTime": {
     "end_time": "2024-06-10T03:54:29.908749Z",
     "start_time": "2024-06-10T03:54:25.219649Z"
    }
   },
   "cell_type": "code",
   "source": [
    "# Use Milvus as Vectorstore\n",
    "\n",
    "from langchain_community.vectorstores import Milvus\n",
    "\n",
    "connection_args = {'uri': URI }\n",
    "\n",
    "vectorstore = Milvus(\n",
    "    embedding_function=embeddings,\n",
    "    connection_args=connection_args,\n",
    "    collection_name=COLLECTION_NAME,\n",
    "    vector_field=\"embeddings\",\n",
    "    primary_field=\"id\",\n",
    "    auto_id=True\n",
    ")\n"
   ],
   "id": "45e3e5d634727002",
   "outputs": [],
   "execution_count": 4
  },
  {
   "metadata": {
    "ExecuteTime": {
     "end_time": "2024-06-10T03:54:34.572963Z",
     "start_time": "2024-06-10T03:54:34.568935Z"
    }
   },
   "cell_type": "code",
   "source": [
    "# Convert the vector store to a retriever\n",
    "# k:2 --> Limit to 2 documents\n",
    "retriever = vectorstore.as_retriever(search_kwargs={'k': 2})\n",
    "# Define a function to format the retrieved documents\n",
    "def format_docs(docs):\n",
    "    return \"\\n\\n\".join(doc.page_content for doc in docs)"
   ],
   "id": "f882bd20b36b7ae4",
   "outputs": [],
   "execution_count": 5
  },
  {
   "metadata": {
    "ExecuteTime": {
     "end_time": "2024-06-10T04:12:45.442452Z",
     "start_time": "2024-06-10T04:11:14.972678Z"
    }
   },
   "cell_type": "code",
   "source": [
    "from langchain_core.runnables import RunnablePassthrough\n",
    "from langchain_core.output_parsers import StrOutputParser\n",
    "\n",
    "rag_chain = (\n",
    "    {\"context\": retriever | format_docs, \"question\": RunnablePassthrough()}\n",
    "    | prompt\n",
    "    | model\n",
    "    | StrOutputParser()\n",
    ")\n",
    "\n",
    "# rag_chain.get_graph().print_ascii()\n",
    "\n",
    "# Invoke the RAG chain with a specific question and retrieve the response\n",
    "query = \"I need a right-back who can play consistently throughout the game. He should also be good going forward\"\n",
    "res = rag_chain.invoke(query)\n",
    "res"
   ],
   "id": "4135d6b87ab58b8a",
   "outputs": [
    {
     "data": {
      "text/plain": [
       "\" Based on the context provided, neither player is specifically mentioned as a right-back or has a consistent performance in the attacking phase. However, the second player, aged 24, who plays as a left-back, shows good defensive skills with impressive speed and consistent performance over 90 minutes. He also poses some dangerous offensive threats. Therefore, if you're looking for a right-back with similar characteristics, this player might be worth considering, although he currently plays on the left side.\""
      ]
     },
     "execution_count": 16,
     "metadata": {},
     "output_type": "execute_result"
    }
   ],
   "execution_count": 16
  },
  {
   "metadata": {
    "ExecuteTime": {
     "end_time": "2024-06-10T03:57:40.493407Z",
     "start_time": "2024-06-10T03:57:40.489863Z"
    }
   },
   "cell_type": "code",
   "source": [
    "from langchain_core.documents.base import Document\n",
    "\n",
    "def extract_metadata(doc: Document) -> dict:\n",
    "    return doc.metadata"
   ],
   "id": "f36ec6c86b20a653",
   "outputs": [],
   "execution_count": 8
  },
  {
   "metadata": {
    "ExecuteTime": {
     "end_time": "2024-06-10T03:57:42.993602Z",
     "start_time": "2024-06-10T03:57:42.455351Z"
    }
   },
   "cell_type": "code",
   "source": [
    "# How to work with meta data from our query\n",
    "retrived_documents = retriever.invoke(query)\n",
    "retrived_documents"
   ],
   "id": "6eeb0401737946d6",
   "outputs": [
    {
     "data": {
      "text/plain": [
       "[Document(page_content='\\n Spielte als Stürmer und zeigte sich sehr torgefährlich.\\nErzielte zwei Tore durch schnelles Umschalten und gute Positionierung.\\nSein Kopfballspiel war stark und er gewann viele Luftduelle.\\nTechnisch war er solide, zeigte jedoch Schwächen bei der Ballannahme unter Druck.\\nDefensiv arbeitete er wenig mit, was zu Lücken im Pressing führte.\\nMit 29 Jahren ist er auf seinem Leistungszenit.\\n ', metadata={'id': 450360548525353427, 'scout_id': '6543', 'player_id': '9f1234567890abcdef123456', 'player_transfermarkt_id': '753468', 'grade_rating': 0.800000011920929, 'grade_potential': 0.75}),\n",
       " Document(page_content='\\n Spielte erneut als Stürmer und zeigte eine hohe Torgefahr.\\nErzielte ein Tor durch einen schnellen Abschluss und war ständig eine Bedrohung für die Abwehr.\\nSein Kopfballspiel blieb stark und er gewann viele Zweikämpfe im Luftduell.\\nTechnisch zeigte er sich verbessert, besonders bei der Ballannahme.\\nDefensiv war sein Einsatz erneut begrenzt, was das Pressing beeinträchtigte.\\nMit 29 Jahren bleibt er ein wichtiger Spieler, aber ohne großes Entwicklungspotenzial.\\n ', metadata={'id': 450360548525353437, 'scout_id': '6543', 'player_id': '9f1234567890abcdef123456', 'player_transfermarkt_id': '753468', 'grade_rating': 0.75, 'grade_potential': 0.699999988079071})]"
      ]
     },
     "execution_count": 9,
     "metadata": {},
     "output_type": "execute_result"
    }
   ],
   "execution_count": 9
  },
  {
   "metadata": {
    "ExecuteTime": {
     "end_time": "2024-06-10T03:57:51.848938Z",
     "start_time": "2024-06-10T03:57:51.841429Z"
    }
   },
   "cell_type": "code",
   "source": [
    "metadata = extract_metadata(retrived_documents[0])\n",
    "metadata"
   ],
   "id": "347f4dd205a2a218",
   "outputs": [
    {
     "data": {
      "text/plain": [
       "{'id': 450360548525353427,\n",
       " 'scout_id': '6543',\n",
       " 'player_id': '9f1234567890abcdef123456',\n",
       " 'player_transfermarkt_id': '753468',\n",
       " 'grade_rating': 0.800000011920929,\n",
       " 'grade_potential': 0.75}"
      ]
     },
     "execution_count": 10,
     "metadata": {},
     "output_type": "execute_result"
    }
   ],
   "execution_count": 10
  },
  {
   "metadata": {
    "ExecuteTime": {
     "end_time": "2024-06-10T03:57:55.822157Z",
     "start_time": "2024-06-10T03:57:55.815885Z"
    }
   },
   "cell_type": "code",
   "source": [
    "# Transfermarkt Link\n",
    "print(f\"Transfermarkt.com Link: https://www.transfermarkt.com/player-name/profil/spieler/{metadata['player_transfermarkt_id']}\")"
   ],
   "id": "af7e594739a62f82",
   "outputs": [
    {
     "name": "stdout",
     "output_type": "stream",
     "text": [
      "Transfermarkt.com Link: https://www.transfermarkt.com/player-name/profil/spieler/753468\n"
     ]
    }
   ],
   "execution_count": 11
  },
  {
   "metadata": {
    "ExecuteTime": {
     "end_time": "2024-06-10T03:57:57.625168Z",
     "start_time": "2024-06-10T03:57:57.621307Z"
    }
   },
   "cell_type": "code",
   "source": [
    "from langchain_core.documents.base import Document\n",
    "\n",
    "def print_texts(doc: Document):\n",
    "    print(doc.page_content)"
   ],
   "id": "b56c11a7c8d5ed2e",
   "outputs": [],
   "execution_count": 12
  },
  {
   "metadata": {
    "ExecuteTime": {
     "end_time": "2024-06-10T03:57:59.688371Z",
     "start_time": "2024-06-10T03:57:59.683148Z"
    }
   },
   "cell_type": "code",
   "source": [
    "# get original texts\n",
    "print_texts(retrived_documents[0])"
   ],
   "id": "2550403e4a1b9686",
   "outputs": [
    {
     "name": "stdout",
     "output_type": "stream",
     "text": [
      "\n",
      " Spielte als Stürmer und zeigte sich sehr torgefährlich.\n",
      "Erzielte zwei Tore durch schnelles Umschalten und gute Positionierung.\n",
      "Sein Kopfballspiel war stark und er gewann viele Luftduelle.\n",
      "Technisch war er solide, zeigte jedoch Schwächen bei der Ballannahme unter Druck.\n",
      "Defensiv arbeitete er wenig mit, was zu Lücken im Pressing führte.\n",
      "Mit 29 Jahren ist er auf seinem Leistungszenit.\n",
      " \n"
     ]
    }
   ],
   "execution_count": 13
  },
  {
   "metadata": {
    "ExecuteTime": {
     "end_time": "2024-06-10T04:00:17.882651Z",
     "start_time": "2024-06-10T03:58:02.084633Z"
    }
   },
   "cell_type": "code",
   "source": [
    "irrelevant_query = \"Ich will einen Kuchen backen. Welche Rezepte kannst du mir vorschlagen?\"\n",
    "res = rag_chain.invoke(irrelevant_query)\n",
    "res"
   ],
   "id": "e2628ed4ebfd480e",
   "outputs": [
    {
     "data": {
      "text/plain": [
       "\" I'm an AI and don't have the ability to bake a cake, but here are some popular cake recipes based on search frequency:\\n\\n1. Chocolate Cake (Very popular)\\n   - Preparation Time: Approximately 1 hour\\n   - Servings: 8-12 slices\\n   - Ingredients: Flour, Sugar, Unsweetened Cocoa Powder, Baking Powder, Salt, Milk, Vegetable Oil, Eggs, and Vanilla Extract.\\n\\n2. Vanilla Cake (High Frequency)\\n   - Preparation Time: Approximately 1 hour\\n   - Servings: 8-12 slices\\n   - Ingredients: Flour, Sugar, Baking Powder, Salt, Milk, Vegetable Oil, Eggs, and Vanilla Extract.\\n\\n3. Carrot Cake (Moderate Frequency)\\n   - Preparation Time: Approximately 1 hour and 30 minutes\\n   - Servings: 8-12 slices\\n   - Ingredients: Flour, Sugar, Grated Carrots, Baking Powder, Salt, Cinnamon, Eggs, Oil, and Vanilla Extract.\\n\\n4. Red Velvet Cake (Less Frequent)\\n   - Preparation Time: Approximately 1 hour and 30 minutes\\n   - Servings: 8-12 slices\\n   - Ingredients: Flour, Sugar, Unsweetened Cocoa Powder, Baking Powder, Salt, Buttermilk, Vegetable Oil, Eggs, Red Food Coloring, and Vanilla Extract.\""
      ]
     },
     "execution_count": 14,
     "metadata": {},
     "output_type": "execute_result"
    }
   ],
   "execution_count": 14
  },
  {
   "metadata": {
    "ExecuteTime": {
     "end_time": "2024-06-10T04:00:30.396283Z",
     "start_time": "2024-06-10T04:00:29.660193Z"
    }
   },
   "cell_type": "code",
   "source": [
    "# Demonstrate retrival based on metadata\n",
    "other_retriver = vectorstore.as_retriever(search_kwargs={\"expr\": 'scout_id == \"3456\"'})\n",
    "expr_res = other_retriver.invoke(query)\n",
    "expr_res"
   ],
   "id": "c1d6034aa2cc0a70",
   "outputs": [
    {
     "data": {
      "text/plain": [
       "[Document(page_content='\\n Kam als Torwart zum Einsatz und zeigte eine solide Leistung.\\nParierte mehrere Schüsse gekonnt und bewahrte seine Mannschaft vor einem Rückstand.\\nBei hohen Bällen wirkte er jedoch unsicher und machte Fehler in der Strafraumbeherrschung.\\nSein Abschlag war stark, aber das Passspiel im Aufbau eher schwach.\\nMit 28 Jahren hat er sich gut entwickelt, aber es bleibt Raum für Verbesserungen.\\n ', metadata={'id': 450360548525353426, 'scout_id': '3456', 'player_id': '8e1234567890abcdef123456', 'player_transfermarkt_id': '159486', 'grade_rating': 0.6000000238418579, 'grade_potential': 0.699999988079071}),\n",
       " Document(page_content='\\n Als Torwart zeigte er erneut eine solide Leistung, jedoch mit Schwächen bei hohen Bällen.\\nParierte mehrere schwierige Schüsse und bewahrte seine Mannschaft vor einem frühen Rückstand.\\nSeine Unsicherheiten bei der Strafraumbeherrschung blieben bestehen, was zu unnötigen Risiken führte.\\nSein Passspiel war diesmal besser, insbesondere bei kurzen Abspielen.\\nMit 28 Jahren hat er sich stabilisiert, aber sein Entwicklungspotenzial ist begrenzt.\\n ', metadata={'id': 450360548525353436, 'scout_id': '3456', 'player_id': '8e1234567890abcdef123456', 'player_transfermarkt_id': '159486', 'grade_rating': 0.6499999761581421, 'grade_potential': 0.699999988079071})]"
      ]
     },
     "execution_count": 15,
     "metadata": {},
     "output_type": "execute_result"
    }
   ],
   "execution_count": 15
  }
 ],
 "metadata": {
  "kernelspec": {
   "display_name": "Python 3",
   "language": "python",
   "name": "python3"
  },
  "language_info": {
   "codemirror_mode": {
    "name": "ipython",
    "version": 2
   },
   "file_extension": ".py",
   "mimetype": "text/x-python",
   "name": "python",
   "nbconvert_exporter": "python",
   "pygments_lexer": "ipython2",
   "version": "2.7.6"
  }
 },
 "nbformat": 4,
 "nbformat_minor": 5
}
