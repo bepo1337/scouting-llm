{
 "cells": [
  {
   "metadata": {},
   "cell_type": "markdown",
   "source": [
    "Resources used:\n",
    "- https://python.langchain.com/v0.1/docs/integrations/vectorstores/milvus/\n",
    "- https://milvus.io/docs/integrate_with_langchain.md"
   ],
   "id": "ceb6154fd59a9d00"
  },
  {
   "metadata": {
    "ExecuteTime": {
     "end_time": "2024-06-04T16:07:24.181110Z",
     "start_time": "2024-06-04T16:07:24.164332Z"
    }
   },
   "cell_type": "code",
   "source": [
    "import os\n",
    "from dotenv import load_dotenv\n",
    "\n",
    "load_dotenv()\n",
    "\n",
    "OPENAI_API_KEY = os.getenv(\"OPENAPI_KEY\") # (Optional), if OpenAI Model is used\n",
    "\n",
    "MODEL = \"mistral:latest\" # Name of the model used by Ollama\n",
    "\n",
    "COLLECTION_NAME = 'scouting' # Name of the Collection to be created\n",
    "\n",
    "DIMENSION = 1536 # Dimension of the embeddings\n",
    "\n",
    "URI = 'http://localhost:19530' # Connection parameters for the Milvus Server"
   ],
   "id": "da2315003ac11e54",
   "outputs": [],
   "execution_count": 26
  },
  {
   "metadata": {
    "ExecuteTime": {
     "end_time": "2024-06-04T16:07:27.012610Z",
     "start_time": "2024-06-04T16:07:26.965986Z"
    }
   },
   "cell_type": "code",
   "source": [
    "from langchain_community.llms import Ollama\n",
    "from langchain_openai import OpenAIEmbeddings\n",
    "\n",
    "model = Ollama(model=MODEL)\n",
    "embeddings = OpenAIEmbeddings(api_key=OPENAI_API_KEY)"
   ],
   "id": "745c61b5491a06db",
   "outputs": [],
   "execution_count": 27
  },
  {
   "metadata": {
    "ExecuteTime": {
     "end_time": "2024-06-04T16:28:27.270051Z",
     "start_time": "2024-06-04T16:28:27.264113Z"
    }
   },
   "cell_type": "code",
   "source": [
    "# Configure the prompt template that is used to ask the LLM\n",
    "\n",
    "from langchain_core.prompts import PromptTemplate\n",
    "\n",
    "PROMPT_TEMPLATE = \"\"\"\n",
    "Human: You are an AI assistant, and provides answers to questions by using fact based and statistical information when possible.\n",
    "Use the following pieces of information to provide a concise answer to the question enclosed in <question> tags.\n",
    "If you don't know the answer from the context, just say that you don't know, don't try to make up an answer.\n",
    "<context>\n",
    "{context}\n",
    "</context>\n",
    "\n",
    "<question>\n",
    "{question}\n",
    "</question>\n",
    "\n",
    "The response should be specific and use statistics or numbers when possible.\n",
    "\n",
    "Assistant:\"\"\"\n",
    "\n",
    "prompt = PromptTemplate(\n",
    "    template=PROMPT_TEMPLATE, input_variables=[\"context\", \"question\"]\n",
    ")\n",
    "print(prompt.format(context=\"Here is some context\", question=\"Here is a question\"))"
   ],
   "id": "df75b1522924f257",
   "outputs": [
    {
     "name": "stdout",
     "output_type": "stream",
     "text": [
      "\n",
      "Human: You are an AI assistant, and provides answers to questions by using fact based and statistical information when possible.\n",
      "Use the following pieces of information to provide a concise answer to the question enclosed in <question> tags.\n",
      "If you don't know the answer from the context, just say that you don't know, don't try to make up an answer.\n",
      "<context>\n",
      "Here is some context\n",
      "</context>\n",
      "\n",
      "<question>\n",
      "Here is a question\n",
      "</question>\n",
      "\n",
      "The response should be specific and use statistics or numbers when possible.\n",
      "\n",
      "Assistant:\n"
     ]
    }
   ],
   "execution_count": 51
  },
  {
   "metadata": {
    "ExecuteTime": {
     "end_time": "2024-06-04T16:28:30.269493Z",
     "start_time": "2024-06-04T16:28:30.252277Z"
    }
   },
   "cell_type": "code",
   "source": [
    "# Use Milvus as Vectorstore\n",
    "\n",
    "from langchain_community.vectorstores import Milvus\n",
    "\n",
    "connection_args = {'uri': URI }\n",
    "\n",
    "vectorstore = Milvus(\n",
    "    embedding_function=embeddings,\n",
    "    connection_args=connection_args,\n",
    "    collection_name=COLLECTION_NAME,\n",
    "    vector_field=\"embeddings\",\n",
    "    primary_field=\"id\",\n",
    "    auto_id=True\n",
    ")\n"
   ],
   "id": "45e3e5d634727002",
   "outputs": [],
   "execution_count": 52
  },
  {
   "metadata": {
    "ExecuteTime": {
     "end_time": "2024-06-04T16:28:31.985201Z",
     "start_time": "2024-06-04T16:28:31.979935Z"
    }
   },
   "cell_type": "code",
   "source": [
    "# Convert the vector store to a retriever\n",
    "# k:2 --> Limit to 2 documents\n",
    "retriever = vectorstore.as_retriever(search_kwargs={'k': 2})\n",
    "# Define a function to format the retrieved documents\n",
    "def format_docs(docs):\n",
    "    return \"\\n\\n\".join(doc.page_content for doc in docs)"
   ],
   "id": "f882bd20b36b7ae4",
   "outputs": [],
   "execution_count": 53
  },
  {
   "metadata": {
    "ExecuteTime": {
     "end_time": "2024-06-04T16:30:05.616632Z",
     "start_time": "2024-06-04T16:28:33.644646Z"
    }
   },
   "cell_type": "code",
   "source": [
    "from langchain_core.runnables import RunnablePassthrough\n",
    "from langchain_core.output_parsers import StrOutputParser\n",
    "\n",
    "rag_chain = (\n",
    "    {\"context\": retriever | format_docs, \"question\": RunnablePassthrough()}\n",
    "    | prompt\n",
    "    | model\n",
    "    | StrOutputParser()\n",
    ")\n",
    "\n",
    "# rag_chain.get_graph().print_ascii()\n",
    "\n",
    "# Invoke the RAG chain with a specific question and retrieve the response\n",
    "query = \"Ich brauche einen Rechtsverteidiger, der konstant über das ganze Spiel durchspielt. Er sollte auch im Spiel nach vorne gut sein\"\n",
    "res = rag_chain.invoke(query)\n",
    "res"
   ],
   "id": "4135d6b87ab58b8a",
   "outputs": [
    {
     "data": {
      "text/plain": [
       "\" Based on the context provided, you are looking for a right defender who consistently performs throughout the game and also contributes offensively. The player mentioned in the context demonstrates this skillset. Here's a summary of his abilities:\\n\\n- A constant performance over 90 minutes (implies consistent play)\\n- Secure in defense, allowing few opportunities for flanks or breaks (implies good defensive skills)\\n- Offensively marks territory with precise passes and timed advances (implies good ball control and decision-making skills)\\n- Notable endurance and high readiness to act (implies he can maintain his performance level throughout the game)\\n- Lacks top speed, which could be a weakness against quick wing players (implies potential limitations in handling fast opponents)\\n- Still has room for improvement at 25 years old (implies he has growth potential and may improve further with coaching and experience)\""
      ]
     },
     "execution_count": 54,
     "metadata": {},
     "output_type": "execute_result"
    }
   ],
   "execution_count": 54
  },
  {
   "metadata": {
    "ExecuteTime": {
     "end_time": "2024-06-04T16:10:54.223602Z",
     "start_time": "2024-06-04T16:10:54.220381Z"
    }
   },
   "cell_type": "code",
   "source": [
    "from langchain_core.documents.base import Document\n",
    "\n",
    "def extract_metadata(doc: Document) -> dict:\n",
    "    return doc.metadata"
   ],
   "id": "f36ec6c86b20a653",
   "outputs": [],
   "execution_count": 32
  },
  {
   "metadata": {
    "ExecuteTime": {
     "end_time": "2024-06-04T16:21:38.948777Z",
     "start_time": "2024-06-04T16:21:38.319818Z"
    }
   },
   "cell_type": "code",
   "source": [
    "# How to work with meta data from our query\n",
    "retrived_documents = retriever.invoke(query)\n",
    "retrived_documents"
   ],
   "id": "6eeb0401737946d6",
   "outputs": [
    {
     "data": {
      "text/plain": [
       "[Document(page_content='\\n Wieder als rechter Verteidiger eingesetzt, zeigte er eine beständige Leistung über die gesamte Spielzeit.\\nDefensiv sehr solide, ließ kaum Flanken und gegnerische Durchbrüche zu.\\nOffensiv setzte er Akzente durch präzise Flanken und gute Vorstöße.\\nSeine Ausdauer und Einsatzbereitschaft waren erneut beeindruckend.\\nSeine Endgeschwindigkeit bleibt eine Schwäche, die gegen schnelle Gegenspieler problematisch sein könnte.\\nMit 25 Jahren hat er noch Verbesserungspotenzial.\\n ', metadata={'id': 450236041423488387, 'scout_id': '0987', 'player_id': 'bf1234567890abcdef123456', 'player_transfermarkt_id': '951357', 'grade_rating': 0.699999988079071, 'grade_potential': 0.75}),\n",
       " Document(page_content='\\n Spielte als rechter Verteidiger und zeigte eine konstante Leistung über 90 Minuten.\\nWar sicher in der Defensive und ließ kaum Flanken zu.\\nOffensiv setzte er Akzente mit präzisen Pässen und gut getimten Vorstößen.\\nSeine Ausdauer und Einsatzbereitschaft waren bemerkenswert.\\nSchwächelte jedoch in der Endgeschwindigkeit, was gegen schnelle Flügelspieler problematisch sein könnte.\\nMit 25 Jahren im besten Alter, um sich weiter zu verbessern.\\n ', metadata={'id': 450236041423488377, 'scout_id': '0987', 'player_id': 'bf1234567890abcdef123456', 'player_transfermarkt_id': '951357', 'grade_rating': 0.699999988079071, 'grade_potential': 0.75})]"
      ]
     },
     "execution_count": 43,
     "metadata": {},
     "output_type": "execute_result"
    }
   ],
   "execution_count": 43
  },
  {
   "metadata": {
    "ExecuteTime": {
     "end_time": "2024-06-04T16:21:43.120049Z",
     "start_time": "2024-06-04T16:21:43.115556Z"
    }
   },
   "cell_type": "code",
   "source": [
    "metadata = extract_metadata(retrived_documents[0])\n",
    "metadata"
   ],
   "id": "347f4dd205a2a218",
   "outputs": [
    {
     "data": {
      "text/plain": [
       "{'id': 450236041423488387,\n",
       " 'scout_id': '0987',\n",
       " 'player_id': 'bf1234567890abcdef123456',\n",
       " 'player_transfermarkt_id': '951357',\n",
       " 'grade_rating': 0.699999988079071,\n",
       " 'grade_potential': 0.75}"
      ]
     },
     "execution_count": 44,
     "metadata": {},
     "output_type": "execute_result"
    }
   ],
   "execution_count": 44
  },
  {
   "metadata": {
    "ExecuteTime": {
     "end_time": "2024-06-04T16:21:45.009686Z",
     "start_time": "2024-06-04T16:21:45.005303Z"
    }
   },
   "cell_type": "code",
   "source": [
    "# Transfermarkt Link\n",
    "print(f\"Transfermarkt.com Link: https://www.transfermarkt.com/player-name/profil/spieler/{metadata['player_transfermarkt_id']}\")"
   ],
   "id": "af7e594739a62f82",
   "outputs": [
    {
     "name": "stdout",
     "output_type": "stream",
     "text": [
      "Transfermarkt.com Link: https://www.transfermarkt.com/player-name/profil/spieler/951357\n"
     ]
    }
   ],
   "execution_count": 45
  },
  {
   "metadata": {
    "ExecuteTime": {
     "end_time": "2024-06-04T16:21:46.748852Z",
     "start_time": "2024-06-04T16:21:46.745631Z"
    }
   },
   "cell_type": "code",
   "source": [
    "from langchain_core.documents.base import Document\n",
    "\n",
    "def print_texts(doc: Document):\n",
    "    print(doc.page_content)"
   ],
   "id": "b56c11a7c8d5ed2e",
   "outputs": [],
   "execution_count": 46
  },
  {
   "metadata": {
    "ExecuteTime": {
     "end_time": "2024-06-04T16:22:05.033210Z",
     "start_time": "2024-06-04T16:22:05.030346Z"
    }
   },
   "cell_type": "code",
   "source": [
    "# get original texts\n",
    "print_texts(retrived_documents[0])"
   ],
   "id": "2550403e4a1b9686",
   "outputs": [
    {
     "name": "stdout",
     "output_type": "stream",
     "text": [
      "\n",
      " Wieder als rechter Verteidiger eingesetzt, zeigte er eine beständige Leistung über die gesamte Spielzeit.\n",
      "Defensiv sehr solide, ließ kaum Flanken und gegnerische Durchbrüche zu.\n",
      "Offensiv setzte er Akzente durch präzise Flanken und gute Vorstöße.\n",
      "Seine Ausdauer und Einsatzbereitschaft waren erneut beeindruckend.\n",
      "Seine Endgeschwindigkeit bleibt eine Schwäche, die gegen schnelle Gegenspieler problematisch sein könnte.\n",
      "Mit 25 Jahren hat er noch Verbesserungspotenzial.\n",
      " \n"
     ]
    }
   ],
   "execution_count": 48
  },
  {
   "metadata": {
    "ExecuteTime": {
     "end_time": "2024-06-04T16:32:40.778252Z",
     "start_time": "2024-06-04T16:30:44.727034Z"
    }
   },
   "cell_type": "code",
   "source": [
    "irrelevant_query = \"Ich will einen Kuchen backen. Welche Rezepte kannst du mir vorschlagen?\"\n",
    "res = rag_chain.invoke(irrelevant_query)\n",
    "res"
   ],
   "id": "e2628ed4ebfd480e",
   "outputs": [
    {
     "data": {
      "text/plain": [
       "\" I'm sorry for any confusion, but the context provided doesn't contain information about recipes for baking a cake. Here are some popular cake recipes you might find interesting:\\n\\n1. Chocolate Cake: This classic recipe usually requires 2 cups of sugar, 1-3/4 cups all-purpose flour, 3/4 cup unsweetened cocoa powder, 1-1/2 teaspoons baking soda, 1-1/2 teaspoons baking powder, 1 teaspoon salt, 2 eggs, 1 cup milk, 1/2 cup vegetable oil, 2 teaspoons vanilla extract, and 1 cup boiling water.\\n\\n2. Vanilla Cake: A versatile recipe that requires 1-3/4 cups granulated sugar, 2-1/2 cups all-purpose flour, 3-1/2 teaspoons baking powder, 1 teaspoon salt, 1 cup milk, 2 eggs, 2 teaspoons vanilla extract, and 1/2 cup unsalted butter (melted).\\n\\n3. Carrot Cake: A sweet and flavorful cake that usually requires 2 cups all-purpose flour, 2 cups sugar, 2 teaspoons baking soda, 1-1/2 teaspoons salt, 1-1/2 teaspoons cinnamon, 4 eggs, 3 cups grated carrots, 1 cup vegetable oil, 3 tablespoons orange juice, and 2 teaspoons vanilla extract.\""
      ]
     },
     "execution_count": 55,
     "metadata": {},
     "output_type": "execute_result"
    }
   ],
   "execution_count": 55
  },
  {
   "metadata": {
    "ExecuteTime": {
     "end_time": "2024-06-04T16:38:31.352326Z",
     "start_time": "2024-06-04T16:38:30.715241Z"
    }
   },
   "cell_type": "code",
   "source": [
    "# Demonstrate retrival based on metadata\n",
    "other_retriver = vectorstore.as_retriever(search_kwargs={\"expr\": 'scout_id == \"3456\"'})\n",
    "expr_res = other_retriver.invoke(query)\n",
    "expr_res"
   ],
   "id": "c1d6034aa2cc0a70",
   "outputs": [
    {
     "data": {
      "text/plain": [
       "[Document(page_content='\\n Kam als Torwart zum Einsatz und zeigte eine solide Leistung.\\nParierte mehrere Schüsse gekonnt und bewahrte seine Mannschaft vor einem Rückstand.\\nBei hohen Bällen wirkte er jedoch unsicher und machte Fehler in der Strafraumbeherrschung.\\nSein Abschlag war stark, aber das Passspiel im Aufbau eher schwach.\\nMit 28 Jahren hat er sich gut entwickelt, aber es bleibt Raum für Verbesserungen.\\n ', metadata={'id': 450236041423488374, 'scout_id': '3456', 'player_id': '8e1234567890abcdef123456', 'player_transfermarkt_id': '159486', 'grade_rating': 0.6000000238418579, 'grade_potential': 0.699999988079071}),\n",
       " Document(page_content='\\n Als Torwart zeigte er erneut eine solide Leistung, jedoch mit Schwächen bei hohen Bällen.\\nParierte mehrere schwierige Schüsse und bewahrte seine Mannschaft vor einem frühen Rückstand.\\nSeine Unsicherheiten bei der Strafraumbeherrschung blieben bestehen, was zu unnötigen Risiken führte.\\nSein Passspiel war diesmal besser, insbesondere bei kurzen Abspielen.\\nMit 28 Jahren hat er sich stabilisiert, aber sein Entwicklungspotenzial ist begrenzt.\\n ', metadata={'id': 450236041423488384, 'scout_id': '3456', 'player_id': '8e1234567890abcdef123456', 'player_transfermarkt_id': '159486', 'grade_rating': 0.6499999761581421, 'grade_potential': 0.699999988079071})]"
      ]
     },
     "execution_count": 60,
     "metadata": {},
     "output_type": "execute_result"
    }
   ],
   "execution_count": 60
  }
 ],
 "metadata": {
  "kernelspec": {
   "display_name": "Python 3",
   "language": "python",
   "name": "python3"
  },
  "language_info": {
   "codemirror_mode": {
    "name": "ipython",
    "version": 2
   },
   "file_extension": ".py",
   "mimetype": "text/x-python",
   "name": "python",
   "nbconvert_exporter": "python",
   "pygments_lexer": "ipython2",
   "version": "2.7.6"
  }
 },
 "nbformat": 4,
 "nbformat_minor": 5
}
